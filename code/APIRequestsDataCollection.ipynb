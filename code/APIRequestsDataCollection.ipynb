{
 "cells": [
  {
   "cell_type": "code",
   "execution_count": 1,
   "id": "1e3f1b8d-aa35-46b0-9d3c-9f401510d805",
   "metadata": {},
   "outputs": [],
   "source": [
    "import pandas as pd\n",
    "import requests\n",
    "import time\n",
    "\n",
    "import bs4 as BeautifulSoup"
   ]
  },
  {
   "cell_type": "code",
   "execution_count": 2,
   "id": "099b2e26-5ccf-40b3-a35b-fff651f7382b",
   "metadata": {},
   "outputs": [],
   "source": [
    "url = 'https://api.pushshift.io/reddit/search/submission'"
   ]
  },
  {
   "cell_type": "code",
   "execution_count": 3,
   "id": "ee829eeb-7c4c-4413-94f8-885575207dd0",
   "metadata": {},
   "outputs": [],
   "source": [
    "PRparam = {\n",
    "    'subreddit' : 'ProRevenge',\n",
    "    'size' : 100,\n",
    "    'before' : None\n",
    "}\n",
    "\n",
    "MCparam = {\n",
    "    'subreddit' : 'MaliciousCompliance',\n",
    "    'size' : 100,\n",
    "    'before' : None\n",
    "}"
   ]
  },
  {
   "cell_type": "code",
   "execution_count": 4,
   "id": "faf0da00-6fb7-46b7-9edd-1584a4842286",
   "metadata": {},
   "outputs": [],
   "source": [
    "PRdf = pd.DataFrame()\n",
    "MCdf = pd.DataFrame()\n",
    "\n",
    "\n",
    "\n",
    "for i in range(1,100):\n",
    "    resPR = requests.get(url, PRparam)                      ## Requests from ProRevenge\n",
    "    \n",
    "    if resPR.status_code == 200:           \n",
    "        postsPR = pd.DataFrame(resPR.json()['data'])\n",
    "        \n",
    "        if PRdf.empty:\n",
    "            PRdf = postsPR\n",
    "        else:\n",
    "            PRdf = pd.concat([PRdf, postsPR])\n",
    "            \n",
    "        PRparam['before'] = postsPR['retrieved_on'].iloc[-1] ## Updates so we take new posts\n",
    "    \n",
    "    time.sleep(5)\n",
    "        \n",
    "        \n",
    "        \n",
    "        \n",
    "    resMC = requests.get(url, MCparam)                       ## Requests from MaliciousCompliance\n",
    "        \n",
    "    if resMC.status_code == 200:\n",
    "        postsMC = pd.DataFrame(resMC.json()['data'])\n",
    "        \n",
    "        if MCdf.empty:\n",
    "            MCdf = postsMC\n",
    "        else:\n",
    "            MCdf = pd.concat([MCdf, postsMC])\n",
    "            \n",
    "        MCparam['before'] = postsMC['retrieved_on'].iloc[-1]\n",
    "    \n",
    "    time.sleep(5)"
   ]
  },
  {
   "cell_type": "code",
   "execution_count": 12,
   "id": "8946238f-36ff-4226-b0e6-8bcad4e62b99",
   "metadata": {},
   "outputs": [
    {
     "data": {
      "text/plain": [
       "0     MaliciousCompliance\n",
       "1     MaliciousCompliance\n",
       "2     MaliciousCompliance\n",
       "3     MaliciousCompliance\n",
       "4     MaliciousCompliance\n",
       "             ...         \n",
       "95    MaliciousCompliance\n",
       "96    MaliciousCompliance\n",
       "97    MaliciousCompliance\n",
       "98    MaliciousCompliance\n",
       "99    MaliciousCompliance\n",
       "Name: subreddit, Length: 9896, dtype: object"
      ]
     },
     "execution_count": 12,
     "metadata": {},
     "output_type": "execute_result"
    }
   ],
   "source": [
    "MCdf['subreddit']"
   ]
  },
  {
   "cell_type": "code",
   "execution_count": 6,
   "id": "246ccc6c-fd21-41db-a9e9-be14e00e05b5",
   "metadata": {
    "tags": []
   },
   "outputs": [
    {
     "data": {
      "text/html": [
       "<div>\n",
       "<style scoped>\n",
       "    .dataframe tbody tr th:only-of-type {\n",
       "        vertical-align: middle;\n",
       "    }\n",
       "\n",
       "    .dataframe tbody tr th {\n",
       "        vertical-align: top;\n",
       "    }\n",
       "\n",
       "    .dataframe thead th {\n",
       "        text-align: right;\n",
       "    }\n",
       "</style>\n",
       "<table border=\"1\" class=\"dataframe\">\n",
       "  <thead>\n",
       "    <tr style=\"text-align: right;\">\n",
       "      <th></th>\n",
       "      <th>all_awardings</th>\n",
       "      <th>allow_live_comments</th>\n",
       "      <th>author</th>\n",
       "      <th>author_flair_css_class</th>\n",
       "      <th>author_flair_richtext</th>\n",
       "      <th>author_flair_text</th>\n",
       "      <th>author_flair_type</th>\n",
       "      <th>author_fullname</th>\n",
       "      <th>author_is_blocked</th>\n",
       "      <th>author_patreon_flair</th>\n",
       "      <th>...</th>\n",
       "      <th>removal_reason</th>\n",
       "      <th>edited</th>\n",
       "      <th>author_cakeday</th>\n",
       "      <th>distinguished</th>\n",
       "      <th>gilded</th>\n",
       "      <th>steward_reports</th>\n",
       "      <th>removed_by</th>\n",
       "      <th>updated_utc</th>\n",
       "      <th>og_description</th>\n",
       "      <th>og_title</th>\n",
       "    </tr>\n",
       "  </thead>\n",
       "  <tbody>\n",
       "    <tr>\n",
       "      <th>0</th>\n",
       "      <td>[]</td>\n",
       "      <td>False</td>\n",
       "      <td>katastrophe_14</td>\n",
       "      <td>None</td>\n",
       "      <td>[]</td>\n",
       "      <td>None</td>\n",
       "      <td>text</td>\n",
       "      <td>t2_b4otd6v</td>\n",
       "      <td>False</td>\n",
       "      <td>False</td>\n",
       "      <td>...</td>\n",
       "      <td>NaN</td>\n",
       "      <td>NaN</td>\n",
       "      <td>NaN</td>\n",
       "      <td>NaN</td>\n",
       "      <td>NaN</td>\n",
       "      <td>NaN</td>\n",
       "      <td>NaN</td>\n",
       "      <td>NaN</td>\n",
       "      <td>NaN</td>\n",
       "      <td>NaN</td>\n",
       "    </tr>\n",
       "    <tr>\n",
       "      <th>1</th>\n",
       "      <td>[]</td>\n",
       "      <td>False</td>\n",
       "      <td>TurbulentDrummer1561</td>\n",
       "      <td>None</td>\n",
       "      <td>[]</td>\n",
       "      <td>None</td>\n",
       "      <td>text</td>\n",
       "      <td>t2_de16bgfo</td>\n",
       "      <td>False</td>\n",
       "      <td>False</td>\n",
       "      <td>...</td>\n",
       "      <td>NaN</td>\n",
       "      <td>NaN</td>\n",
       "      <td>NaN</td>\n",
       "      <td>NaN</td>\n",
       "      <td>NaN</td>\n",
       "      <td>NaN</td>\n",
       "      <td>NaN</td>\n",
       "      <td>NaN</td>\n",
       "      <td>NaN</td>\n",
       "      <td>NaN</td>\n",
       "    </tr>\n",
       "    <tr>\n",
       "      <th>2</th>\n",
       "      <td>[]</td>\n",
       "      <td>False</td>\n",
       "      <td>spagtscully</td>\n",
       "      <td>None</td>\n",
       "      <td>[]</td>\n",
       "      <td>None</td>\n",
       "      <td>text</td>\n",
       "      <td>t2_17ejak8b</td>\n",
       "      <td>False</td>\n",
       "      <td>False</td>\n",
       "      <td>...</td>\n",
       "      <td>NaN</td>\n",
       "      <td>NaN</td>\n",
       "      <td>NaN</td>\n",
       "      <td>NaN</td>\n",
       "      <td>NaN</td>\n",
       "      <td>NaN</td>\n",
       "      <td>NaN</td>\n",
       "      <td>NaN</td>\n",
       "      <td>NaN</td>\n",
       "      <td>NaN</td>\n",
       "    </tr>\n",
       "    <tr>\n",
       "      <th>3</th>\n",
       "      <td>[]</td>\n",
       "      <td>False</td>\n",
       "      <td>Clear-Print-6136</td>\n",
       "      <td>None</td>\n",
       "      <td>[]</td>\n",
       "      <td>None</td>\n",
       "      <td>text</td>\n",
       "      <td>t2_mjgt198s</td>\n",
       "      <td>False</td>\n",
       "      <td>False</td>\n",
       "      <td>...</td>\n",
       "      <td>NaN</td>\n",
       "      <td>NaN</td>\n",
       "      <td>NaN</td>\n",
       "      <td>NaN</td>\n",
       "      <td>NaN</td>\n",
       "      <td>NaN</td>\n",
       "      <td>NaN</td>\n",
       "      <td>NaN</td>\n",
       "      <td>NaN</td>\n",
       "      <td>NaN</td>\n",
       "    </tr>\n",
       "    <tr>\n",
       "      <th>4</th>\n",
       "      <td>[]</td>\n",
       "      <td>False</td>\n",
       "      <td>EmuFunny7588</td>\n",
       "      <td>None</td>\n",
       "      <td>[]</td>\n",
       "      <td>None</td>\n",
       "      <td>text</td>\n",
       "      <td>t2_mja51c8u</td>\n",
       "      <td>False</td>\n",
       "      <td>False</td>\n",
       "      <td>...</td>\n",
       "      <td>NaN</td>\n",
       "      <td>NaN</td>\n",
       "      <td>NaN</td>\n",
       "      <td>NaN</td>\n",
       "      <td>NaN</td>\n",
       "      <td>NaN</td>\n",
       "      <td>NaN</td>\n",
       "      <td>NaN</td>\n",
       "      <td>NaN</td>\n",
       "      <td>NaN</td>\n",
       "    </tr>\n",
       "  </tbody>\n",
       "</table>\n",
       "<p>5 rows × 78 columns</p>\n",
       "</div>"
      ],
      "text/plain": [
       "  all_awardings  allow_live_comments                author  \\\n",
       "0            []                False        katastrophe_14   \n",
       "1            []                False  TurbulentDrummer1561   \n",
       "2            []                False           spagtscully   \n",
       "3            []                False      Clear-Print-6136   \n",
       "4            []                False          EmuFunny7588   \n",
       "\n",
       "  author_flair_css_class author_flair_richtext author_flair_text  \\\n",
       "0                   None                    []              None   \n",
       "1                   None                    []              None   \n",
       "2                   None                    []              None   \n",
       "3                   None                    []              None   \n",
       "4                   None                    []              None   \n",
       "\n",
       "  author_flair_type author_fullname author_is_blocked author_patreon_flair  \\\n",
       "0              text      t2_b4otd6v             False                False   \n",
       "1              text     t2_de16bgfo             False                False   \n",
       "2              text     t2_17ejak8b             False                False   \n",
       "3              text     t2_mjgt198s             False                False   \n",
       "4              text     t2_mja51c8u             False                False   \n",
       "\n",
       "   ... removal_reason edited  author_cakeday  distinguished  gilded  \\\n",
       "0  ...            NaN    NaN             NaN            NaN     NaN   \n",
       "1  ...            NaN    NaN             NaN            NaN     NaN   \n",
       "2  ...            NaN    NaN             NaN            NaN     NaN   \n",
       "3  ...            NaN    NaN             NaN            NaN     NaN   \n",
       "4  ...            NaN    NaN             NaN            NaN     NaN   \n",
       "\n",
       "  steward_reports removed_by updated_utc og_description og_title  \n",
       "0             NaN        NaN         NaN            NaN      NaN  \n",
       "1             NaN        NaN         NaN            NaN      NaN  \n",
       "2             NaN        NaN         NaN            NaN      NaN  \n",
       "3             NaN        NaN         NaN            NaN      NaN  \n",
       "4             NaN        NaN         NaN            NaN      NaN  \n",
       "\n",
       "[5 rows x 78 columns]"
      ]
     },
     "execution_count": 6,
     "metadata": {},
     "output_type": "execute_result"
    }
   ],
   "source": [
    "PRdf.head(5)"
   ]
  },
  {
   "cell_type": "code",
   "execution_count": 7,
   "id": "6a5a8b04-24ee-4ba4-aa4b-c972686ad286",
   "metadata": {},
   "outputs": [
    {
     "data": {
      "text/plain": [
       "(9896, 81)"
      ]
     },
     "execution_count": 7,
     "metadata": {},
     "output_type": "execute_result"
    }
   ],
   "source": [
    "MCdf.shape"
   ]
  },
  {
   "cell_type": "code",
   "execution_count": 8,
   "id": "a6dfc6ad-1f6d-47b8-b49c-293ccd7beec4",
   "metadata": {},
   "outputs": [
    {
     "data": {
      "text/plain": [
       "(9895, 78)"
      ]
     },
     "execution_count": 8,
     "metadata": {},
     "output_type": "execute_result"
    }
   ],
   "source": [
    "PRdf.shape"
   ]
  },
  {
   "cell_type": "code",
   "execution_count": 10,
   "id": "52dffcb8-fa9a-41d8-9784-34e2564e8eb6",
   "metadata": {},
   "outputs": [],
   "source": [
    "MCdf.to_csv('../data/MCraw.csv', index = False)"
   ]
  },
  {
   "cell_type": "code",
   "execution_count": 11,
   "id": "fa75c4a8-05a4-4000-b8e1-76458d5e56cb",
   "metadata": {},
   "outputs": [],
   "source": [
    "PRdf.to_csv('../data/PRraw.csv', index = False)"
   ]
  }
 ],
 "metadata": {
  "kernelspec": {
   "display_name": "Python 3 (ipykernel)",
   "language": "python",
   "name": "python3"
  },
  "language_info": {
   "codemirror_mode": {
    "name": "ipython",
    "version": 3
   },
   "file_extension": ".py",
   "mimetype": "text/x-python",
   "name": "python",
   "nbconvert_exporter": "python",
   "pygments_lexer": "ipython3",
   "version": "3.9.7"
  }
 },
 "nbformat": 4,
 "nbformat_minor": 5
}
