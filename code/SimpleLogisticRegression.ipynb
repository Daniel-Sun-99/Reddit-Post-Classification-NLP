{
 "cells": [
  {
   "cell_type": "code",
   "execution_count": 41,
   "id": "32131f53-7d37-42d3-8756-d4e698fca835",
   "metadata": {},
   "outputs": [],
   "source": [
    "import numpy as np\n",
    "import pandas as pd\n",
    "\n",
    "from sklearn.feature_extraction.text import CountVectorizer, TfidfVectorizer\n",
    "from sklearn.model_selection import train_test_split, GridSearchCV\n",
    "from sklearn.linear_model import LogisticRegression\n",
    "from sklearn.metrics import ConfusionMatrixDisplay, recall_score, precision_score, f1_score\n",
    "from sklearn.pipeline import Pipeline\n",
    "from nltk import word_tokenize\n",
    "from nltk.stem import WordNetLemmatizer"
   ]
  },
  {
   "cell_type": "markdown",
   "id": "02f206f4-da3e-483c-b346-2404fbbfb90a",
   "metadata": {},
   "source": [
    "# 1 is ProRevenge 0 is MaliciousCompliance"
   ]
  },
  {
   "cell_type": "code",
   "execution_count": 3,
   "id": "dfe887e5-5479-4516-b00b-d94c6ccb7cdf",
   "metadata": {},
   "outputs": [],
   "source": [
    "df = pd.read_csv('../data/working_cleaned.csv')\n",
    "\n",
    "df.drop(columns = 'Unnamed: 0', inplace = True)"
   ]
  },
  {
   "cell_type": "code",
   "execution_count": 4,
   "id": "774196cb-867c-42d9-9eb5-dc0544c70726",
   "metadata": {},
   "outputs": [
    {
     "data": {
      "text/html": [
       "<div>\n",
       "<style scoped>\n",
       "    .dataframe tbody tr th:only-of-type {\n",
       "        vertical-align: middle;\n",
       "    }\n",
       "\n",
       "    .dataframe tbody tr th {\n",
       "        vertical-align: top;\n",
       "    }\n",
       "\n",
       "    .dataframe thead th {\n",
       "        text-align: right;\n",
       "    }\n",
       "</style>\n",
       "<table border=\"1\" class=\"dataframe\">\n",
       "  <thead>\n",
       "    <tr style=\"text-align: right;\">\n",
       "      <th></th>\n",
       "      <th>selftext</th>\n",
       "      <th>title</th>\n",
       "      <th>subreddit</th>\n",
       "    </tr>\n",
       "  </thead>\n",
       "  <tbody>\n",
       "    <tr>\n",
       "      <th>0</th>\n",
       "      <td>[removed]</td>\n",
       "      <td>Does anybody know that one song with a motel a...</td>\n",
       "      <td>0</td>\n",
       "    </tr>\n",
       "    <tr>\n",
       "      <th>1</th>\n",
       "      <td>I'm torn between posting this here or one of t...</td>\n",
       "      <td>Quit Instead of Give me Your W9? I'll get your...</td>\n",
       "      <td>0</td>\n",
       "    </tr>\n",
       "    <tr>\n",
       "      <th>2</th>\n",
       "      <td>[removed]</td>\n",
       "      <td>Black Snow!</td>\n",
       "      <td>0</td>\n",
       "    </tr>\n",
       "    <tr>\n",
       "      <th>3</th>\n",
       "      <td>I’m a young male who is coming to the end of t...</td>\n",
       "      <td>So you think everyone wonders why we’re not fr...</td>\n",
       "      <td>0</td>\n",
       "    </tr>\n",
       "    <tr>\n",
       "      <th>4</th>\n",
       "      <td>[removed]</td>\n",
       "      <td>Buy Verified PayPal Accounts.USA,UK,CA,Best Pa...</td>\n",
       "      <td>0</td>\n",
       "    </tr>\n",
       "  </tbody>\n",
       "</table>\n",
       "</div>"
      ],
      "text/plain": [
       "                                            selftext  \\\n",
       "0                                          [removed]   \n",
       "1  I'm torn between posting this here or one of t...   \n",
       "2                                          [removed]   \n",
       "3  I’m a young male who is coming to the end of t...   \n",
       "4                                          [removed]   \n",
       "\n",
       "                                               title  subreddit  \n",
       "0  Does anybody know that one song with a motel a...          0  \n",
       "1  Quit Instead of Give me Your W9? I'll get your...          0  \n",
       "2                                        Black Snow!          0  \n",
       "3  So you think everyone wonders why we’re not fr...          0  \n",
       "4  Buy Verified PayPal Accounts.USA,UK,CA,Best Pa...          0  "
      ]
     },
     "execution_count": 4,
     "metadata": {},
     "output_type": "execute_result"
    }
   ],
   "source": [
    "df.head()"
   ]
  },
  {
   "cell_type": "code",
   "execution_count": 5,
   "id": "a2b4833d-ec52-4d16-bbbf-716491b49e19",
   "metadata": {},
   "outputs": [
    {
     "data": {
      "text/plain": [
       "8499"
      ]
     },
     "execution_count": 5,
     "metadata": {},
     "output_type": "execute_result"
    }
   ],
   "source": [
    "(df['selftext'] == '[removed]').sum()"
   ]
  },
  {
   "cell_type": "markdown",
   "id": "c7a2aaff-7d4d-46eb-992f-c2379b8cccdd",
   "metadata": {},
   "source": [
    "## Removing '[removed]' posts from selftext as those are posts that have been deemed not fit for the category, Also separating the two for possible future use"
   ]
  },
  {
   "cell_type": "code",
   "execution_count": 6,
   "id": "2606304a-4208-43ed-85ae-10e22b62e268",
   "metadata": {},
   "outputs": [],
   "source": [
    "df_removeds = df[df['selftext'] == '[removed]']"
   ]
  },
  {
   "cell_type": "code",
   "execution_count": 7,
   "id": "b62cf23d-ecbf-4aba-a886-30d5928282a2",
   "metadata": {},
   "outputs": [],
   "source": [
    "df = df[df['selftext'] != '[removed]']"
   ]
  },
  {
   "cell_type": "code",
   "execution_count": 8,
   "id": "46208c18-e2d7-4458-90a3-8e3542f68d4d",
   "metadata": {},
   "outputs": [
    {
     "data": {
      "text/plain": [
       "0"
      ]
     },
     "execution_count": 8,
     "metadata": {},
     "output_type": "execute_result"
    }
   ],
   "source": [
    "(df['selftext'] == '[removed]').sum()"
   ]
  },
  {
   "cell_type": "code",
   "execution_count": 9,
   "id": "3bbc0abd-eeae-4f30-ad5e-096df922ea7d",
   "metadata": {},
   "outputs": [],
   "source": [
    "df.to_csv('../data/remove_removed.csv', index = False)"
   ]
  },
  {
   "cell_type": "code",
   "execution_count": 10,
   "id": "67946878-c65b-413a-839c-388c3a7a6c2d",
   "metadata": {},
   "outputs": [],
   "source": [
    "df_removeds.to_csv('../data/removeds.csv', index = False)"
   ]
  },
  {
   "cell_type": "markdown",
   "id": "0d4f97cc-c466-4886-8a17-28ea6c97bb4d",
   "metadata": {
    "tags": []
   },
   "source": [
    "### Looking at selftext first"
   ]
  },
  {
   "cell_type": "code",
   "execution_count": 11,
   "id": "6ca3d27b-903b-4fae-be03-cadd8c88435d",
   "metadata": {},
   "outputs": [],
   "source": [
    "X = df['selftext']\n",
    "y = df['subreddit']\n",
    "\n",
    "\n",
    "X_train, X_test, y_train, y_test = train_test_split(X, y, random_state = 1)"
   ]
  },
  {
   "cell_type": "markdown",
   "id": "2f2c72f0-570f-434c-bdcb-16d4ce687e82",
   "metadata": {
    "tags": []
   },
   "source": [
    "## Quick null model"
   ]
  },
  {
   "cell_type": "code",
   "execution_count": 12,
   "id": "c0a9e306-7e0e-4eaf-bbf5-104f04abc2c7",
   "metadata": {},
   "outputs": [
    {
     "data": {
      "text/plain": [
       "0    0.556955\n",
       "1    0.443045\n",
       "Name: subreddit, dtype: float64"
      ]
     },
     "execution_count": 12,
     "metadata": {},
     "output_type": "execute_result"
    }
   ],
   "source": [
    "y.value_counts(normalize = True)"
   ]
  },
  {
   "cell_type": "markdown",
   "id": "a793b2c5-3fbd-410d-8a5e-1ce74add1f65",
   "metadata": {},
   "source": [
    "#### We're looking for > 55% accuracy"
   ]
  },
  {
   "cell_type": "markdown",
   "id": "ad337679-297e-4676-aac8-79fb469a0e8f",
   "metadata": {
    "tags": []
   },
   "source": [
    "## looking at vectorized data to see any initial problems"
   ]
  },
  {
   "cell_type": "code",
   "execution_count": 13,
   "id": "3eb384fc-3e9d-4f5f-8c22-4d336d5584ae",
   "metadata": {},
   "outputs": [],
   "source": [
    "cv = CountVectorizer(stop_words = 'english')"
   ]
  },
  {
   "cell_type": "code",
   "execution_count": 14,
   "id": "6eb316a2-87bb-4dfd-ad0b-6d410bd7b406",
   "metadata": {},
   "outputs": [],
   "source": [
    "X_train_cv = pd.DataFrame(cv.fit_transform(X_train, y_train).toarray(), columns = cv.get_feature_names_out())"
   ]
  },
  {
   "cell_type": "code",
   "execution_count": 15,
   "id": "dcccb9d7-da62-469f-b386-a5b0ad902457",
   "metadata": {
    "tags": []
   },
   "outputs": [
    {
     "data": {
      "text/plain": [
       "just      14925\n",
       "time      13802\n",
       "got       11709\n",
       "day       10416\n",
       "work      10218\n",
       "like      10207\n",
       "didn       9964\n",
       "told       9923\n",
       "said       9739\n",
       "did        8719\n",
       "know       7260\n",
       "went       6926\n",
       "going      6561\n",
       "people     6250\n",
       "don        6237\n",
       "dtype: int64"
      ]
     },
     "execution_count": 15,
     "metadata": {},
     "output_type": "execute_result"
    }
   ],
   "source": [
    "X_train_cv.sum().sort_values(ascending = False).head(15)"
   ]
  },
  {
   "cell_type": "markdown",
   "id": "577647ad-35eb-4a19-9f06-6e6cd5fc06ff",
   "metadata": {},
   "source": [
    "### Lemmatizer"
   ]
  },
  {
   "cell_type": "code",
   "execution_count": 16,
   "id": "e7d5c9bc-f7cf-4a88-96bf-8cb213843d93",
   "metadata": {},
   "outputs": [],
   "source": [
    "def lemma_tokenizer(doc):\n",
    "    wnl = WordNetLemmatizer()\n",
    "    return [wnl.lemmatize(w) for w in word_tokenize(doc)]"
   ]
  },
  {
   "cell_type": "markdown",
   "id": "a5f217db-e19d-4b37-aa4b-9e7d1b6cf7ba",
   "metadata": {
    "tags": []
   },
   "source": [
    "### Simple Logistic regression model w/ vectorizing on SELFTEXT"
   ]
  },
  {
   "cell_type": "code",
   "execution_count": 17,
   "id": "daf9bddd-cf21-4906-b514-e674c5c2c58a",
   "metadata": {},
   "outputs": [
    {
     "name": "stderr",
     "output_type": "stream",
     "text": [
      "/Users/danielsun/opt/anaconda3/lib/python3.9/site-packages/sklearn/feature_extraction/text.py:396: UserWarning: Your stop_words may be inconsistent with your preprocessing. Tokenizing the stop words generated tokens ['ha', 'le', 'u', 'wa'] not in stop_words.\n",
      "  warnings.warn(\n"
     ]
    },
    {
     "data": {
      "text/plain": [
       "(0.992163204378654, 0.8227611940298507)"
      ]
     },
     "execution_count": 17,
     "metadata": {},
     "output_type": "execute_result"
    }
   ],
   "source": [
    "pipe1 = Pipeline([\n",
    "    ('cv', CountVectorizer(tokenizer = lemma_tokenizer, stop_words = 'english')),\n",
    "    ('logr', LogisticRegression(max_iter = 1_000))\n",
    "])\n",
    "\n",
    "pipe1.fit(X_train, y_train)\n",
    "\n",
    "pipe1.score(X_train, y_train), pipe1.score(X_test, y_test)"
   ]
  },
  {
   "cell_type": "code",
   "execution_count": 18,
   "id": "8ad0556e-ff16-4d03-82a7-6fe970f84761",
   "metadata": {},
   "outputs": [
    {
     "name": "stdout",
     "output_type": "stream",
     "text": [
      "0.8242622950819672\n",
      "0.8586065573770492\n",
      "0.841083974573436\n"
     ]
    }
   ],
   "source": [
    "print(recall_score(y_test, pipe1.predict(X_test), pos_label= 0))\n",
    "print(precision_score(y_test, pipe1.predict(X_test), pos_label= 0))\n",
    "print(f1_score(y_test, pipe1.predict(X_test), pos_label= 0))"
   ]
  },
  {
   "cell_type": "code",
   "execution_count": 19,
   "id": "d6cb15e4-4947-422e-ac8f-a4963f4d2f77",
   "metadata": {},
   "outputs": [
    {
     "data": {
      "text/plain": [
       "<sklearn.metrics._plot.confusion_matrix.ConfusionMatrixDisplay at 0x7fe81b70fa30>"
      ]
     },
     "execution_count": 19,
     "metadata": {},
     "output_type": "execute_result"
    },
    {
     "data": {
      "image/png": "[encoded data removed]",
      "text/plain": [
       "<Figure size 432x288 with 2 Axes>"
      ]
     },
     "metadata": {
      "needs_background": "light"
     },
     "output_type": "display_data"
    }
   ],
   "source": [
    "ConfusionMatrixDisplay.from_estimator(pipe1, X_test, y_test)"
   ]
  },
  {
   "cell_type": "markdown",
   "id": "a4431d65-9383-4fe9-82b5-e31e538b32ec",
   "metadata": {},
   "source": [
    "--------------------------------------------------------------------------------------------------------"
   ]
  },
  {
   "cell_type": "code",
   "execution_count": 20,
   "id": "cf199afb-91d1-41e0-9109-465096ab5197",
   "metadata": {},
   "outputs": [
    {
     "data": {
      "text/plain": [
       "(0.9922875979599453, 0.8261194029850746)"
      ]
     },
     "execution_count": 20,
     "metadata": {},
     "output_type": "execute_result"
    }
   ],
   "source": [
    "pipe2 = Pipeline([\n",
    "    ('cv', CountVectorizer(stop_words = 'english')),\n",
    "    ('logr', LogisticRegression(max_iter = 1_000))\n",
    "])\n",
    "\n",
    "pipe2.fit(X_train, y_train)\n",
    "\n",
    "pipe2.score(X_train, y_train), pipe2.score(X_test, y_test)"
   ]
  },
  {
   "cell_type": "code",
   "execution_count": 21,
   "id": "a89ce763-7d56-45af-97fe-d3b73fa6cc2b",
   "metadata": {},
   "outputs": [
    {
     "name": "stdout",
     "output_type": "stream",
     "text": [
      "0.8295081967213115\n",
      "0.8599592114208022\n",
      "0.8444592790387184\n"
     ]
    }
   ],
   "source": [
    "print(recall_score(y_test, pipe2.predict(X_test), pos_label = 0))\n",
    "print(precision_score(y_test, pipe2.predict(X_test), pos_label = 0))\n",
    "print(f1_score(y_test, pipe2.predict(X_test), pos_label = 0))"
   ]
  },
  {
   "cell_type": "code",
   "execution_count": 22,
   "id": "31a0fea5-769a-460a-9ceb-14c73f5bd2cd",
   "metadata": {},
   "outputs": [
    {
     "data": {
      "text/plain": [
       "<sklearn.metrics._plot.confusion_matrix.ConfusionMatrixDisplay at 0x7fe81b821eb0>"
      ]
     },
     "execution_count": 22,
     "metadata": {},
     "output_type": "execute_result"
    },
    {
     "data": {
      "image/png": "[encoded data removed]",
      "text/plain": [
       "<Figure size 432x288 with 2 Axes>"
      ]
     },
     "metadata": {
      "needs_background": "light"
     },
     "output_type": "display_data"
    }
   ],
   "source": [
    "ConfusionMatrixDisplay.from_estimator(pipe2, X_test, y_test)"
   ]
  },
  {
   "cell_type": "markdown",
   "id": "d1e29f69-1d8e-4cb2-adee-9912e25a8932",
   "metadata": {},
   "source": [
    "--------------------------------------------------------------------------------------------------------"
   ]
  },
  {
   "cell_type": "markdown",
   "id": "6050ae7c-9fe3-454c-9158-a434d81b5498",
   "metadata": {},
   "source": [
    "### Simple Logistic Regression using Title --- Due to best result in f1 score, procede with further testing w/ gridsearching"
   ]
  },
  {
   "cell_type": "code",
   "execution_count": 37,
   "id": "8f36b38a-6578-4be9-b662-c178a20d0360",
   "metadata": {},
   "outputs": [],
   "source": [
    "X = df['title']\n",
    "y = df['subreddit']\n",
    "\n",
    "\n",
    "X_train, X_test, y_train, y_test = train_test_split(X, y, random_state = 1)"
   ]
  },
  {
   "cell_type": "code",
   "execution_count": 38,
   "id": "4c83826d-614d-4e9e-84fe-6d55b95ac980",
   "metadata": {},
   "outputs": [
    {
     "data": {
      "text/plain": [
       "(0.9290956586640129, 0.817910447761194)"
      ]
     },
     "execution_count": 38,
     "metadata": {},
     "output_type": "execute_result"
    }
   ],
   "source": [
    "pipe2.fit(X_train, y_train)\n",
    "\n",
    "pipe2.score(X_train, y_train), pipe2.score(X_test, y_test)"
   ]
  },
  {
   "cell_type": "code",
   "execution_count": 39,
   "id": "63c7f013-9147-49fd-93ef-ef6972a0dbf6",
   "metadata": {},
   "outputs": [
    {
     "name": "stdout",
     "output_type": "stream",
     "text": [
      "0.8701639344262295\n",
      "0.8206555349412492\n",
      "0.844684914067473\n"
     ]
    }
   ],
   "source": [
    "print(recall_score(y_test, pipe2.predict(X_test), pos_label = 0))\n",
    "print(precision_score(y_test, pipe2.predict(X_test), pos_label = 0))\n",
    "print(f1_score(y_test, pipe2.predict(X_test), pos_label = 0))"
   ]
  },
  {
   "cell_type": "code",
   "execution_count": 40,
   "id": "bd862ef5-fb90-4d0a-99d6-d9b72ddd0b1d",
   "metadata": {},
   "outputs": [
    {
     "data": {
      "text/plain": [
       "<sklearn.metrics._plot.confusion_matrix.ConfusionMatrixDisplay at 0x7fe83346d880>"
      ]
     },
     "execution_count": 40,
     "metadata": {},
     "output_type": "execute_result"
    },
    {
     "data": {
      "image/png": "[encoded data removed]",
      "text/plain": [
       "<Figure size 432x288 with 2 Axes>"
      ]
     },
     "metadata": {
      "needs_background": "light"
     },
     "output_type": "display_data"
    }
   ],
   "source": [
    "ConfusionMatrixDisplay.from_estimator(pipe2, X_test, y_test)"
   ]
  },
  {
   "cell_type": "markdown",
   "id": "7277580a-fab1-4487-a9b8-e9adbe6a4342",
   "metadata": {},
   "source": [
    "--------------------------------------------------------------------------------------------------------------------"
   ]
  },
  {
   "cell_type": "markdown",
   "id": "81267450-13d0-46af-800a-30b2a091e751",
   "metadata": {},
   "source": [
    "## Gridsearching with a new pipeline -- also adding in new vectorizer TFID"
   ]
  },
  {
   "cell_type": "code",
   "execution_count": 48,
   "id": "e4426002-10b7-49fe-92a6-f13e54516181",
   "metadata": {},
   "outputs": [],
   "source": [
    "logr_cv_params = {\n",
    "    'cv__stop_words': ['english'],\n",
    "    'cv__ngram_range' : [(1,1) , (1,2)],\n",
    "    'cv__lowercase': [True, False],\n",
    "    'logr__max_iter' : [1_000]\n",
    "}\n",
    "\n",
    "\n",
    "logr_cv_pipe = Pipeline([\n",
    "    ('cv', CountVectorizer()),\n",
    "    ('logr', LogisticRegression())\n",
    "     ])\n",
    "\n",
    "gs_cv = GridSearchCV(\n",
    "    logr_cv_pipe,\n",
    "    param_grid=logr_cv_params,\n",
    "    n_jobs=-1\n",
    ")"
   ]
  },
  {
   "cell_type": "code",
   "execution_count": 51,
   "id": "47cc5f8a-ce77-4708-a4da-d2c80792c7a4",
   "metadata": {},
   "outputs": [
    {
     "data": {
      "text/plain": [
       "(0.9764896131359622, 0.8205223880597015)"
      ]
     },
     "execution_count": 51,
     "metadata": {},
     "output_type": "execute_result"
    }
   ],
   "source": [
    "gs_cv.fit(X_train, y_train)\n",
    "\n",
    "gs_cv.score(X_train, y_train), gs_cv.score(X_test, y_test)"
   ]
  },
  {
   "cell_type": "code",
   "execution_count": 53,
   "id": "5476c8cb-0b11-45aa-964b-6a8158b5080e",
   "metadata": {},
   "outputs": [
    {
     "data": {
      "text/plain": [
       "Pipeline(steps=[('cv',\n",
       "                 CountVectorizer(ngram_range=(1, 2), stop_words='english')),\n",
       "                ('logr', LogisticRegression(max_iter=1000))])"
      ]
     },
     "execution_count": 53,
     "metadata": {},
     "output_type": "execute_result"
    }
   ],
   "source": [
    "gs_cv.best_estimator_"
   ]
  },
  {
   "cell_type": "code",
   "execution_count": 54,
   "id": "209ac44d-8e2c-4799-b95f-af437ced27f6",
   "metadata": {},
   "outputs": [
    {
     "name": "stdout",
     "output_type": "stream",
     "text": [
      "0.8852459016393442\n",
      "0.8152173913043478\n",
      "0.848789688777114\n"
     ]
    }
   ],
   "source": [
    "print(recall_score(y_test, gs_cv.predict(X_test), pos_label = 0))\n",
    "print(precision_score(y_test, gs_cv.predict(X_test), pos_label = 0))\n",
    "print(f1_score(y_test, gs_cv.predict(X_test), pos_label = 0))"
   ]
  },
  {
   "cell_type": "code",
   "execution_count": 57,
   "id": "60b9541d-05c9-42ac-bf53-a69e9de4632d",
   "metadata": {},
   "outputs": [
    {
     "data": {
      "image/png": "[encoded data removed]",
      "text/plain": [
       "<Figure size 432x288 with 2 Axes>"
      ]
     },
     "metadata": {
      "needs_background": "light"
     },
     "output_type": "display_data"
    }
   ],
   "source": [
    "ConfusionMatrixDisplay.from_estimator(gs_cv, X_test, y_test);"
   ]
  },
  {
   "cell_type": "markdown",
   "id": "55f80cd1-d09b-4595-8b5d-07cb0a01d980",
   "metadata": {},
   "source": [
    "-----"
   ]
  },
  {
   "cell_type": "markdown",
   "id": "0951b31f-7101-46eb-8600-bb5492f8df5c",
   "metadata": {},
   "source": [
    "## Tfid gridsearch"
   ]
  },
  {
   "cell_type": "code",
   "execution_count": 59,
   "id": "f52d0259-c475-4c46-a552-e1210b819e7d",
   "metadata": {},
   "outputs": [],
   "source": [
    "logr_tfid_params = {\n",
    "    'tfid__stop_words': ['english'],\n",
    "    'tfid__lowercase': [True, False],\n",
    "    'tfid__min_df': [2, 5, 10],\n",
    "    'tfid__ngram_range' : [(1,1) , (1,2)],\n",
    "    'logr__max_iter' : [1_000]\n",
    "}\n"
   ]
  },
  {
   "cell_type": "code",
   "execution_count": 67,
   "id": "ebb3313d-a2d0-4fd7-a365-4088c76a32a7",
   "metadata": {},
   "outputs": [
    {
     "data": {
      "text/plain": [
       "(0.900111954223162, 0.8156716417910448)"
      ]
     },
     "execution_count": 67,
     "metadata": {},
     "output_type": "execute_result"
    }
   ],
   "source": [
    "logr_tfid_pipe = Pipeline([\n",
    "    ('tfid', TfidfVectorizer()),\n",
    "    ('logr', LogisticRegression())\n",
    "     ])\n",
    "\n",
    "gs_tfid = GridSearchCV(\n",
    "    logr_tfid_pipe,\n",
    "    param_grid=logr_tfid_params,\n",
    "    n_jobs=-1\n",
    ")\n",
    "\n",
    "gs_tfid.fit(X_train, y_train)\n",
    "\n",
    "gs_tfid.score(X_train, y_train), gs_tfid.score(X_test, y_test)"
   ]
  },
  {
   "cell_type": "code",
   "execution_count": 68,
   "id": "fc057b29-c236-4a09-808a-1b4fa7b0725a",
   "metadata": {},
   "outputs": [
    {
     "data": {
      "text/plain": [
       "Pipeline(steps=[('tfid',\n",
       "                 TfidfVectorizer(min_df=2, ngram_range=(1, 2),\n",
       "                                 stop_words='english')),\n",
       "                ('logr', LogisticRegression(max_iter=1000))])"
      ]
     },
     "execution_count": 68,
     "metadata": {},
     "output_type": "execute_result"
    }
   ],
   "source": [
    "gs_tfid.best_estimator_"
   ]
  },
  {
   "cell_type": "code",
   "execution_count": 69,
   "id": "99b21b42-774c-4d44-ab72-2f0b099b9859",
   "metadata": {},
   "outputs": [
    {
     "name": "stdout",
     "output_type": "stream",
     "text": [
      "0.860983606557377\n",
      "0.8231974921630094\n",
      "0.8416666666666667\n"
     ]
    }
   ],
   "source": [
    "print(recall_score(y_test, gs_tfid.predict(X_test), pos_label = 0))\n",
    "print(precision_score(y_test, gs_tfid.predict(X_test), pos_label = 0))\n",
    "print(f1_score(y_test, gs_tfid.predict(X_test), pos_label = 0))"
   ]
  },
  {
   "cell_type": "code",
   "execution_count": 70,
   "id": "d779bf4d-fff8-4c36-a9ab-005bbbe4c276",
   "metadata": {},
   "outputs": [
    {
     "data": {
      "image/png": "[encoded data removed]",
      "text/plain": [
       "<Figure size 432x288 with 2 Axes>"
      ]
     },
     "metadata": {
      "needs_background": "light"
     },
     "output_type": "display_data"
    }
   ],
   "source": [
    "ConfusionMatrixDisplay.from_estimator(gs_tfid, X_test, y_test);"
   ]
  },
  {
   "cell_type": "markdown",
   "id": "d2fa9341-b5bb-4602-b6ff-4ff73c5fbde5",
   "metadata": {},
   "source": [
    "### Concatting both selftext and title into count vectorizer"
   ]
  },
  {
   "cell_type": "code",
   "execution_count": 27,
   "id": "1237ef29-2b7d-48a3-9864-9fca8ec0fde9",
   "metadata": {},
   "outputs": [],
   "source": [
    "renamed = pd.DataFrame(df[['title', 'subreddit']])\n",
    "renamed.columns = ['text', 'subreddit']\n",
    "renamed2 = pd.DataFrame(df[['selftext', 'subreddit']])\n",
    "renamed2.columns = ['text', 'subreddit']"
   ]
  },
  {
   "cell_type": "code",
   "execution_count": 28,
   "id": "335ea501-df93-4e2b-ba06-67683d5168b3",
   "metadata": {},
   "outputs": [],
   "source": [
    "single_df = pd.concat([renamed, renamed2])"
   ]
  },
  {
   "cell_type": "code",
   "execution_count": 29,
   "id": "67b3cd91-2e49-45eb-b5bf-2c812c6dc809",
   "metadata": {
    "tags": []
   },
   "outputs": [
    {
     "data": {
      "text/html": [
       "<div>\n",
       "<style scoped>\n",
       "    .dataframe tbody tr th:only-of-type {\n",
       "        vertical-align: middle;\n",
       "    }\n",
       "\n",
       "    .dataframe tbody tr th {\n",
       "        vertical-align: top;\n",
       "    }\n",
       "\n",
       "    .dataframe thead th {\n",
       "        text-align: right;\n",
       "    }\n",
       "</style>\n",
       "<table border=\"1\" class=\"dataframe\">\n",
       "  <thead>\n",
       "    <tr style=\"text-align: right;\">\n",
       "      <th></th>\n",
       "      <th>text</th>\n",
       "      <th>subreddit</th>\n",
       "    </tr>\n",
       "  </thead>\n",
       "  <tbody>\n",
       "    <tr>\n",
       "      <th>1</th>\n",
       "      <td>Quit Instead of Give me Your W9? I'll get your...</td>\n",
       "      <td>0</td>\n",
       "    </tr>\n",
       "    <tr>\n",
       "      <th>3</th>\n",
       "      <td>So you think everyone wonders why we’re not fr...</td>\n",
       "      <td>0</td>\n",
       "    </tr>\n",
       "    <tr>\n",
       "      <th>5</th>\n",
       "      <td>Want me to drill in style? Gladly!</td>\n",
       "      <td>0</td>\n",
       "    </tr>\n",
       "    <tr>\n",
       "      <th>6</th>\n",
       "      <td>I can't let you back in because it would distu...</td>\n",
       "      <td>0</td>\n",
       "    </tr>\n",
       "    <tr>\n",
       "      <th>7</th>\n",
       "      <td>Only one ice cream cone, you say?</td>\n",
       "      <td>0</td>\n",
       "    </tr>\n",
       "    <tr>\n",
       "      <th>...</th>\n",
       "      <td>...</td>\n",
       "      <td>...</td>\n",
       "    </tr>\n",
       "    <tr>\n",
       "      <th>19212</th>\n",
       "      <td>This happened to me I think a week ago (Saturd...</td>\n",
       "      <td>1</td>\n",
       "    </tr>\n",
       "    <tr>\n",
       "      <th>19213</th>\n",
       "      <td>Ok so i posted this on r/nuclearrevenge but i ...</td>\n",
       "      <td>1</td>\n",
       "    </tr>\n",
       "    <tr>\n",
       "      <th>19214</th>\n",
       "      <td>A roommate fucked me over before for about two...</td>\n",
       "      <td>1</td>\n",
       "    </tr>\n",
       "    <tr>\n",
       "      <th>19215</th>\n",
       "      <td>So in r/SMG4, you cant ship Mario and Meggy, a...</td>\n",
       "      <td>1</td>\n",
       "    </tr>\n",
       "    <tr>\n",
       "      <th>19217</th>\n",
       "      <td>So this is a short one. When I was about six o...</td>\n",
       "      <td>1</td>\n",
       "    </tr>\n",
       "  </tbody>\n",
       "</table>\n",
       "<p>21438 rows × 2 columns</p>\n",
       "</div>"
      ],
      "text/plain": [
       "                                                    text  subreddit\n",
       "1      Quit Instead of Give me Your W9? I'll get your...          0\n",
       "3      So you think everyone wonders why we’re not fr...          0\n",
       "5                     Want me to drill in style? Gladly!          0\n",
       "6      I can't let you back in because it would distu...          0\n",
       "7                      Only one ice cream cone, you say?          0\n",
       "...                                                  ...        ...\n",
       "19212  This happened to me I think a week ago (Saturd...          1\n",
       "19213  Ok so i posted this on r/nuclearrevenge but i ...          1\n",
       "19214  A roommate fucked me over before for about two...          1\n",
       "19215  So in r/SMG4, you cant ship Mario and Meggy, a...          1\n",
       "19217  So this is a short one. When I was about six o...          1\n",
       "\n",
       "[21438 rows x 2 columns]"
      ]
     },
     "execution_count": 29,
     "metadata": {},
     "output_type": "execute_result"
    }
   ],
   "source": [
    "single_df"
   ]
  },
  {
   "cell_type": "code",
   "execution_count": 34,
   "id": "4ff2a8a5-a571-4e70-b480-3ec79b62f097",
   "metadata": {},
   "outputs": [],
   "source": [
    "single_df.to_csv('../data/concat_title_selftext.csv', index = False)"
   ]
  },
  {
   "cell_type": "code",
   "execution_count": 30,
   "id": "45527539-de64-439d-8a4a-d3ec30c84c65",
   "metadata": {},
   "outputs": [],
   "source": [
    "X = single_df['text']\n",
    "y = single_df['subreddit']\n",
    "\n",
    "\n",
    "X_train, X_test, y_train, y_test = train_test_split(X, y, random_state = 1)"
   ]
  },
  {
   "cell_type": "code",
   "execution_count": 31,
   "id": "fc8071a9-1d59-40e7-acc5-8cfcd3e07c8d",
   "metadata": {},
   "outputs": [
    {
     "data": {
      "text/plain": [
       "(0.9531036198532156, 0.8205223880597015)"
      ]
     },
     "execution_count": 31,
     "metadata": {},
     "output_type": "execute_result"
    }
   ],
   "source": [
    "pipe2.fit(X_train, y_train)\n",
    "\n",
    "pipe2.score(X_train, y_train), pipe2.score(X_test, y_test)"
   ]
  },
  {
   "cell_type": "code",
   "execution_count": 32,
   "id": "1b766b79-ba99-4fcb-a9b8-7692c48ff342",
   "metadata": {},
   "outputs": [
    {
     "name": "stdout",
     "output_type": "stream",
     "text": [
      "0.8720732948761453\n",
      "0.8145800316957211\n",
      "0.8423467715503115\n"
     ]
    }
   ],
   "source": [
    "print(recall_score(y_test, pipe2.predict(X_test), pos_label = 0))\n",
    "print(precision_score(y_test, pipe2.predict(X_test), pos_label = 0))\n",
    "print(f1_score(y_test, pipe2.predict(X_test), pos_label = 0))"
   ]
  },
  {
   "cell_type": "code",
   "execution_count": 33,
   "id": "67278eb1-a228-44ba-b0a1-99dfe56bde9b",
   "metadata": {},
   "outputs": [
    {
     "data": {
      "text/plain": [
       "<sklearn.metrics._plot.confusion_matrix.ConfusionMatrixDisplay at 0x7fe813c0c9a0>"
      ]
     },
     "execution_count": 33,
     "metadata": {},
     "output_type": "execute_result"
    },
    {
     "data": {
      "image/png": "[encoded data removed]",
      "text/plain": [
       "<Figure size 432x288 with 2 Axes>"
      ]
     },
     "metadata": {
      "needs_background": "light"
     },
     "output_type": "display_data"
    }
   ],
   "source": [
    "ConfusionMatrixDisplay.from_estimator(pipe2, X_test, y_test)"
   ]
  }
 ],
 "metadata": {
  "kernelspec": {
   "display_name": "Python 3 (ipykernel)",
   "language": "python",
   "name": "python3"
  },
  "language_info": {
   "codemirror_mode": {
    "name": "ipython",
    "version": 3
   },
   "file_extension": ".py",
   "mimetype": "text/x-python",
   "name": "python",
   "nbconvert_exporter": "python",
   "pygments_lexer": "ipython3",
   "version": "3.9.7"
  }
 },
 "nbformat": 4,
 "nbformat_minor": 5
}
