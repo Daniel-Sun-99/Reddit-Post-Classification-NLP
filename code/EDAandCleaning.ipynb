{
 "cells": [
  {
   "cell_type": "code",
   "execution_count": 20,
   "id": "595937da-a6a1-4ff8-bf74-c0420ecab7e5",
   "metadata": {},
   "outputs": [],
   "source": [
    "import pandas as pd\n",
    "import numpy as np"
   ]
  },
  {
   "cell_type": "markdown",
   "id": "3c370334-9445-48e3-a8fd-5b4b4ab644bc",
   "metadata": {},
   "source": [
    "## Creating of initial working data"
   ]
  },
  {
   "cell_type": "code",
   "execution_count": 21,
   "id": "ae9c1095-ea3c-48fa-af83-d7b1319daa28",
   "metadata": {},
   "outputs": [
    {
     "name": "stderr",
     "output_type": "stream",
     "text": [
      "/Users/danielsun/opt/anaconda3/lib/python3.9/site-packages/IPython/core/interactiveshell.py:3444: DtypeWarning: Columns (8,19,77,78) have mixed types.Specify dtype option on import or set low_memory=False.\n",
      "  exec(code_obj, self.user_global_ns, self.user_ns)\n",
      "/Users/danielsun/opt/anaconda3/lib/python3.9/site-packages/IPython/core/interactiveshell.py:3444: DtypeWarning: Columns (8,10,19,54,61,68,71) have mixed types.Specify dtype option on import or set low_memory=False.\n",
      "  exec(code_obj, self.user_global_ns, self.user_ns)\n"
     ]
    }
   ],
   "source": [
    "rawMC = pd.read_csv('../data/MCraw.csv')\n",
    "rawPR = pd.read_csv('../data/PRraw.csv')"
   ]
  },
  {
   "cell_type": "code",
   "execution_count": 22,
   "id": "5f70275c-4fe1-4ce9-86df-5da833ef0700",
   "metadata": {},
   "outputs": [],
   "source": [
    "rawWorking = pd.concat([rawMC, rawPR])"
   ]
  },
  {
   "cell_type": "code",
   "execution_count": 23,
   "id": "f8dc4387-42a0-4fac-9797-fe3a3429a1b9",
   "metadata": {},
   "outputs": [
    {
     "data": {
      "text/plain": [
       "(19791, 87)"
      ]
     },
     "execution_count": 23,
     "metadata": {},
     "output_type": "execute_result"
    }
   ],
   "source": [
    "rawWorking.shape"
   ]
  },
  {
   "cell_type": "code",
   "execution_count": 24,
   "id": "eb39d33c-8a2e-4f28-b30b-d4ef8b33e9e8",
   "metadata": {},
   "outputs": [
    {
     "name": "stdout",
     "output_type": "stream",
     "text": [
      "<class 'pandas.core.frame.DataFrame'>\n",
      "Int64Index: 19791 entries, 0 to 9894\n",
      "Data columns (total 87 columns):\n",
      " #   Column                         Non-Null Count  Dtype  \n",
      "---  ------                         --------------  -----  \n",
      " 0   all_awardings                  19791 non-null  object \n",
      " 1   allow_live_comments            19791 non-null  bool   \n",
      " 2   author                         19791 non-null  object \n",
      " 3   author_flair_css_class         68 non-null     object \n",
      " 4   author_flair_richtext          19302 non-null  object \n",
      " 5   author_flair_text              0 non-null      float64\n",
      " 6   author_flair_type              19302 non-null  object \n",
      " 7   author_fullname                19302 non-null  object \n",
      " 8   author_is_blocked              6506 non-null   object \n",
      " 9   author_patreon_flair           19302 non-null  object \n",
      " 10  author_premium                 17510 non-null  object \n",
      " 11  awarders                       18762 non-null  object \n",
      " 12  can_mod_post                   19791 non-null  bool   \n",
      " 13  contest_mode                   19791 non-null  bool   \n",
      " 14  created_utc                    19791 non-null  int64  \n",
      " 15  domain                         19791 non-null  object \n",
      " 16  full_link                      19791 non-null  object \n",
      " 17  gildings                       19791 non-null  object \n",
      " 18  id                             19791 non-null  object \n",
      " 19  is_created_from_ads_ui         8089 non-null   object \n",
      " 20  is_crosspostable               19791 non-null  bool   \n",
      " 21  is_meta                        19791 non-null  bool   \n",
      " 22  is_original_content            19791 non-null  bool   \n",
      " 23  is_reddit_media_domain         19791 non-null  bool   \n",
      " 24  is_robot_indexable             19791 non-null  bool   \n",
      " 25  is_self                        19791 non-null  bool   \n",
      " 26  is_video                       19791 non-null  bool   \n",
      " 27  link_flair_background_color    6366 non-null   object \n",
      " 28  link_flair_richtext            19791 non-null  object \n",
      " 29  link_flair_text_color          19791 non-null  object \n",
      " 30  link_flair_type                19791 non-null  object \n",
      " 31  locked                         19791 non-null  bool   \n",
      " 32  media_only                     19791 non-null  bool   \n",
      " 33  no_follow                      19791 non-null  bool   \n",
      " 34  num_comments                   19791 non-null  int64  \n",
      " 35  num_crossposts                 19791 non-null  int64  \n",
      " 36  over_18                        19791 non-null  bool   \n",
      " 37  parent_whitelist_status        19740 non-null  object \n",
      " 38  permalink                      19791 non-null  object \n",
      " 39  pinned                         19791 non-null  bool   \n",
      " 40  pwls                           19740 non-null  float64\n",
      " 41  removed_by_category            8271 non-null   object \n",
      " 42  retrieved_on                   19791 non-null  int64  \n",
      " 43  score                          19791 non-null  int64  \n",
      " 44  selftext                       19218 non-null  object \n",
      " 45  send_replies                   19791 non-null  bool   \n",
      " 46  spoiler                        19791 non-null  bool   \n",
      " 47  stickied                       19791 non-null  bool   \n",
      " 48  subreddit                      19791 non-null  object \n",
      " 49  subreddit_id                   19791 non-null  object \n",
      " 50  subreddit_subscribers          19791 non-null  int64  \n",
      " 51  subreddit_type                 19791 non-null  object \n",
      " 52  thumbnail                      19791 non-null  object \n",
      " 53  title                          19791 non-null  object \n",
      " 54  total_awards_received          19791 non-null  int64  \n",
      " 55  treatment_tags                 16497 non-null  object \n",
      " 56  upvote_ratio                   16250 non-null  float64\n",
      " 57  url                            19791 non-null  object \n",
      " 58  whitelist_status               19740 non-null  object \n",
      " 59  wls                            19740 non-null  float64\n",
      " 60  link_flair_css_class           6403 non-null   object \n",
      " 61  link_flair_template_id         6405 non-null   object \n",
      " 62  link_flair_text                6405 non-null   object \n",
      " 63  post_hint                      754 non-null    object \n",
      " 64  preview                        754 non-null    object \n",
      " 65  crosspost_parent               198 non-null    object \n",
      " 66  crosspost_parent_list          198 non-null    object \n",
      " 67  url_overridden_by_dest         198 non-null    object \n",
      " 68  author_flair_background_color  0 non-null      float64\n",
      " 69  author_flair_text_color        557 non-null    object \n",
      " 70  banned_by                      315 non-null    object \n",
      " 71  author_cakeday                 59 non-null     object \n",
      " 72  author_flair_template_id       17 non-null     object \n",
      " 73  call_to_action                 0 non-null      float64\n",
      " 74  category                       0 non-null      float64\n",
      " 75  edited                         360 non-null    float64\n",
      " 76  gilded                         116 non-null    float64\n",
      " 77  top_awarded_type               6 non-null      object \n",
      " 78  distinguished                  2 non-null      object \n",
      " 79  thumbnail_height               2 non-null      float64\n",
      " 80  thumbnail_width                2 non-null      float64\n",
      " 81  removal_reason                 1 non-null      object \n",
      " 82  steward_reports                1732 non-null   object \n",
      " 83  removed_by                     85 non-null     object \n",
      " 84  updated_utc                    1547 non-null   float64\n",
      " 85  og_description                 0 non-null      float64\n",
      " 86  og_title                       0 non-null      float64\n",
      "dtypes: bool(18), float64(14), int64(7), object(48)\n",
      "memory usage: 10.9+ MB\n"
     ]
    }
   ],
   "source": [
    "rawWorking.info()"
   ]
  },
  {
   "cell_type": "code",
   "execution_count": 25,
   "id": "a2d4395a-058c-4bc0-8571-ac04363ac856",
   "metadata": {},
   "outputs": [],
   "source": [
    "rawWorking.to_csv('../data/rawWorking.csv', index = False)"
   ]
  },
  {
   "cell_type": "code",
   "execution_count": 26,
   "id": "6fda6f5e-590e-4db8-be09-58d0b63d44b2",
   "metadata": {},
   "outputs": [],
   "source": [
    "working_df = rawWorking[['selftext', 'title', 'subreddit']]"
   ]
  },
  {
   "cell_type": "code",
   "execution_count": 27,
   "id": "032a5470-d259-4f69-8b3b-04461a912f42",
   "metadata": {},
   "outputs": [
    {
     "name": "stdout",
     "output_type": "stream",
     "text": [
      "<class 'pandas.core.frame.DataFrame'>\n",
      "Int64Index: 19791 entries, 0 to 9894\n",
      "Data columns (total 3 columns):\n",
      " #   Column     Non-Null Count  Dtype \n",
      "---  ------     --------------  ----- \n",
      " 0   selftext   19218 non-null  object\n",
      " 1   title      19791 non-null  object\n",
      " 2   subreddit  19791 non-null  object\n",
      "dtypes: object(3)\n",
      "memory usage: 618.5+ KB\n"
     ]
    }
   ],
   "source": [
    "working_df.info()"
   ]
  },
  {
   "cell_type": "code",
   "execution_count": 28,
   "id": "c8eb33f1-1b41-4a76-8340-d974e2556a5e",
   "metadata": {},
   "outputs": [
    {
     "data": {
      "text/html": [
       "<div>\n",
       "<style scoped>\n",
       "    .dataframe tbody tr th:only-of-type {\n",
       "        vertical-align: middle;\n",
       "    }\n",
       "\n",
       "    .dataframe tbody tr th {\n",
       "        vertical-align: top;\n",
       "    }\n",
       "\n",
       "    .dataframe thead th {\n",
       "        text-align: right;\n",
       "    }\n",
       "</style>\n",
       "<table border=\"1\" class=\"dataframe\">\n",
       "  <thead>\n",
       "    <tr style=\"text-align: right;\">\n",
       "      <th></th>\n",
       "      <th>selftext</th>\n",
       "      <th>title</th>\n",
       "      <th>subreddit</th>\n",
       "    </tr>\n",
       "  </thead>\n",
       "  <tbody>\n",
       "    <tr>\n",
       "      <th>0</th>\n",
       "      <td>[removed]</td>\n",
       "      <td>Does anybody know that one song with a motel a...</td>\n",
       "      <td>MaliciousCompliance</td>\n",
       "    </tr>\n",
       "    <tr>\n",
       "      <th>1</th>\n",
       "      <td>I'm torn between posting this here or one of t...</td>\n",
       "      <td>Quit Instead of Give me Your W9? I'll get your...</td>\n",
       "      <td>MaliciousCompliance</td>\n",
       "    </tr>\n",
       "    <tr>\n",
       "      <th>2</th>\n",
       "      <td>[removed]</td>\n",
       "      <td>Black Snow!</td>\n",
       "      <td>MaliciousCompliance</td>\n",
       "    </tr>\n",
       "    <tr>\n",
       "      <th>3</th>\n",
       "      <td>I’m a young male who is coming to the end of t...</td>\n",
       "      <td>So you think everyone wonders why we’re not fr...</td>\n",
       "      <td>MaliciousCompliance</td>\n",
       "    </tr>\n",
       "    <tr>\n",
       "      <th>4</th>\n",
       "      <td>[removed]</td>\n",
       "      <td>Buy Verified PayPal Accounts.USA,UK,CA,Best Pa...</td>\n",
       "      <td>MaliciousCompliance</td>\n",
       "    </tr>\n",
       "  </tbody>\n",
       "</table>\n",
       "</div>"
      ],
      "text/plain": [
       "                                            selftext  \\\n",
       "0                                          [removed]   \n",
       "1  I'm torn between posting this here or one of t...   \n",
       "2                                          [removed]   \n",
       "3  I’m a young male who is coming to the end of t...   \n",
       "4                                          [removed]   \n",
       "\n",
       "                                               title            subreddit  \n",
       "0  Does anybody know that one song with a motel a...  MaliciousCompliance  \n",
       "1  Quit Instead of Give me Your W9? I'll get your...  MaliciousCompliance  \n",
       "2                                        Black Snow!  MaliciousCompliance  \n",
       "3  So you think everyone wonders why we’re not fr...  MaliciousCompliance  \n",
       "4  Buy Verified PayPal Accounts.USA,UK,CA,Best Pa...  MaliciousCompliance  "
      ]
     },
     "execution_count": 28,
     "metadata": {},
     "output_type": "execute_result"
    }
   ],
   "source": [
    "working_df.head()"
   ]
  },
  {
   "cell_type": "code",
   "execution_count": 29,
   "id": "cb509596-b135-41bd-abd5-058647a829a7",
   "metadata": {},
   "outputs": [
    {
     "data": {
      "text/html": [
       "<div>\n",
       "<style scoped>\n",
       "    .dataframe tbody tr th:only-of-type {\n",
       "        vertical-align: middle;\n",
       "    }\n",
       "\n",
       "    .dataframe tbody tr th {\n",
       "        vertical-align: top;\n",
       "    }\n",
       "\n",
       "    .dataframe thead th {\n",
       "        text-align: right;\n",
       "    }\n",
       "</style>\n",
       "<table border=\"1\" class=\"dataframe\">\n",
       "  <thead>\n",
       "    <tr style=\"text-align: right;\">\n",
       "      <th></th>\n",
       "      <th>selftext</th>\n",
       "      <th>title</th>\n",
       "      <th>subreddit</th>\n",
       "    </tr>\n",
       "  </thead>\n",
       "  <tbody>\n",
       "    <tr>\n",
       "      <th>9890</th>\n",
       "      <td>Ok so i posted this on r/nuclearrevenge but i ...</td>\n",
       "      <td>Kid got me suspended so i got him expelled</td>\n",
       "      <td>ProRevenge</td>\n",
       "    </tr>\n",
       "    <tr>\n",
       "      <th>9891</th>\n",
       "      <td>A roommate fucked me over before for about two...</td>\n",
       "      <td>Roommate fucked me over before revenge with fl...</td>\n",
       "      <td>ProRevenge</td>\n",
       "    </tr>\n",
       "    <tr>\n",
       "      <th>9892</th>\n",
       "      <td>So in r/SMG4, you cant ship Mario and Meggy, a...</td>\n",
       "      <td>Major breakruler gives me chance to revenge</td>\n",
       "      <td>ProRevenge</td>\n",
       "    </tr>\n",
       "    <tr>\n",
       "      <th>9893</th>\n",
       "      <td>[removed]</td>\n",
       "      <td>Steal my pen, I'll send you to the ER!!!</td>\n",
       "      <td>ProRevenge</td>\n",
       "    </tr>\n",
       "    <tr>\n",
       "      <th>9894</th>\n",
       "      <td>So this is a short one. When I was about six o...</td>\n",
       "      <td>Getting revenge on a 6 year old</td>\n",
       "      <td>ProRevenge</td>\n",
       "    </tr>\n",
       "  </tbody>\n",
       "</table>\n",
       "</div>"
      ],
      "text/plain": [
       "                                               selftext  \\\n",
       "9890  Ok so i posted this on r/nuclearrevenge but i ...   \n",
       "9891  A roommate fucked me over before for about two...   \n",
       "9892  So in r/SMG4, you cant ship Mario and Meggy, a...   \n",
       "9893                                          [removed]   \n",
       "9894  So this is a short one. When I was about six o...   \n",
       "\n",
       "                                                  title   subreddit  \n",
       "9890         Kid got me suspended so i got him expelled  ProRevenge  \n",
       "9891  Roommate fucked me over before revenge with fl...  ProRevenge  \n",
       "9892        Major breakruler gives me chance to revenge  ProRevenge  \n",
       "9893           Steal my pen, I'll send you to the ER!!!  ProRevenge  \n",
       "9894                    Getting revenge on a 6 year old  ProRevenge  "
      ]
     },
     "execution_count": 29,
     "metadata": {},
     "output_type": "execute_result"
    }
   ],
   "source": [
    "working_df.tail()"
   ]
  },
  {
   "cell_type": "code",
   "execution_count": 30,
   "id": "c9420375-705c-412d-b91c-8372662006b5",
   "metadata": {},
   "outputs": [],
   "source": [
    "working_df.to_csv('../data/working_df.csv', index = False)"
   ]
  },
  {
   "cell_type": "markdown",
   "id": "4aa7ff51-0aca-4b3c-910d-e1e07562d17d",
   "metadata": {},
   "source": [
    "### Working data cleaning/initial EDA"
   ]
  },
  {
   "cell_type": "code",
   "execution_count": 33,
   "id": "dbef16b8-a872-4e0a-b7e6-f588965fe4d7",
   "metadata": {},
   "outputs": [
    {
     "name": "stderr",
     "output_type": "stream",
     "text": [
      "/Users/danielsun/opt/anaconda3/lib/python3.9/site-packages/pandas/util/_decorators.py:311: SettingWithCopyWarning: \n",
      "A value is trying to be set on a copy of a slice from a DataFrame\n",
      "\n",
      "See the caveats in the documentation: https://pandas.pydata.org/pandas-docs/stable/user_guide/indexing.html#returning-a-view-versus-a-copy\n",
      "  return func(*args, **kwargs)\n"
     ]
    }
   ],
   "source": [
    "working_df.dropna(inplace = True)"
   ]
  },
  {
   "cell_type": "code",
   "execution_count": 34,
   "id": "4adf4978-d4e4-458e-b9c4-3066e25d6bb8",
   "metadata": {},
   "outputs": [
    {
     "name": "stdout",
     "output_type": "stream",
     "text": [
      "<class 'pandas.core.frame.DataFrame'>\n",
      "Int64Index: 19218 entries, 0 to 9894\n",
      "Data columns (total 3 columns):\n",
      " #   Column     Non-Null Count  Dtype \n",
      "---  ------     --------------  ----- \n",
      " 0   selftext   19218 non-null  object\n",
      " 1   title      19218 non-null  object\n",
      " 2   subreddit  19218 non-null  object\n",
      "dtypes: object(3)\n",
      "memory usage: 600.6+ KB\n"
     ]
    }
   ],
   "source": [
    "working_df.info()"
   ]
  },
  {
   "cell_type": "code",
   "execution_count": 35,
   "id": "a943919c-3c40-40cb-8c7d-8345b7010357",
   "metadata": {},
   "outputs": [],
   "source": [
    "working_df.to_csv('../data/working_cleaned.csv')"
   ]
  }
 ],
 "metadata": {
  "kernelspec": {
   "display_name": "Python 3 (ipykernel)",
   "language": "python",
   "name": "python3"
  },
  "language_info": {
   "codemirror_mode": {
    "name": "ipython",
    "version": 3
   },
   "file_extension": ".py",
   "mimetype": "text/x-python",
   "name": "python",
   "nbconvert_exporter": "python",
   "pygments_lexer": "ipython3",
   "version": "3.9.7"
  }
 },
 "nbformat": 4,
 "nbformat_minor": 5
}
