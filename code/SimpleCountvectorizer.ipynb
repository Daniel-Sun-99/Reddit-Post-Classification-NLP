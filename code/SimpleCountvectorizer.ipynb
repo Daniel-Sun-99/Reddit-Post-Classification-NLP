{
 "cells": [
  {
   "cell_type": "code",
   "execution_count": 163,
   "id": "32131f53-7d37-42d3-8756-d4e698fca835",
   "metadata": {},
   "outputs": [],
   "source": [
    "import numpy as np\n",
    "import pandas as pd\n",
    "\n",
    "from sklearn.feature_extraction.text import CountVectorizer\n",
    "from sklearn.preprocessing import OneHotEncoder\n",
    "from sklearn.model_selection import train_test_split\n",
    "from sklearn.linear_model import LogisticRegression\n",
    "from sklearn.metrics import ConfusionMatrixDisplay\n",
    "from sklearn.pipeline import Pipeline\n",
    "from nltk import word_tokenize\n",
    "from nltk.stem import WordNetLemmatizer"
   ]
  },
  {
   "cell_type": "code",
   "execution_count": 164,
   "id": "df99bfcb-5ceb-468e-9a26-bcc193ed341e",
   "metadata": {},
   "outputs": [],
   "source": [
    "## 1 is ProRevenge 0 is MaliciousCompliance"
   ]
  },
  {
   "cell_type": "code",
   "execution_count": 165,
   "id": "dfe887e5-5479-4516-b00b-d94c6ccb7cdf",
   "metadata": {},
   "outputs": [],
   "source": [
    "df = pd.read_csv('../data/working_cleaned.csv')\n",
    "\n",
    "df.drop(columns = 'Unnamed: 0', inplace = True)"
   ]
  },
  {
   "cell_type": "code",
   "execution_count": 166,
   "id": "774196cb-867c-42d9-9eb5-dc0544c70726",
   "metadata": {},
   "outputs": [
    {
     "data": {
      "text/html": [
       "<div>\n",
       "<style scoped>\n",
       "    .dataframe tbody tr th:only-of-type {\n",
       "        vertical-align: middle;\n",
       "    }\n",
       "\n",
       "    .dataframe tbody tr th {\n",
       "        vertical-align: top;\n",
       "    }\n",
       "\n",
       "    .dataframe thead th {\n",
       "        text-align: right;\n",
       "    }\n",
       "</style>\n",
       "<table border=\"1\" class=\"dataframe\">\n",
       "  <thead>\n",
       "    <tr style=\"text-align: right;\">\n",
       "      <th></th>\n",
       "      <th>selftext</th>\n",
       "      <th>title</th>\n",
       "      <th>subreddit</th>\n",
       "    </tr>\n",
       "  </thead>\n",
       "  <tbody>\n",
       "    <tr>\n",
       "      <th>0</th>\n",
       "      <td>[removed]</td>\n",
       "      <td>Does anybody know that one song with a motel a...</td>\n",
       "      <td>0</td>\n",
       "    </tr>\n",
       "    <tr>\n",
       "      <th>1</th>\n",
       "      <td>I'm torn between posting this here or one of t...</td>\n",
       "      <td>Quit Instead of Give me Your W9? I'll get your...</td>\n",
       "      <td>0</td>\n",
       "    </tr>\n",
       "    <tr>\n",
       "      <th>2</th>\n",
       "      <td>[removed]</td>\n",
       "      <td>Black Snow!</td>\n",
       "      <td>0</td>\n",
       "    </tr>\n",
       "    <tr>\n",
       "      <th>3</th>\n",
       "      <td>I’m a young male who is coming to the end of t...</td>\n",
       "      <td>So you think everyone wonders why we’re not fr...</td>\n",
       "      <td>0</td>\n",
       "    </tr>\n",
       "    <tr>\n",
       "      <th>4</th>\n",
       "      <td>[removed]</td>\n",
       "      <td>Buy Verified PayPal Accounts.USA,UK,CA,Best Pa...</td>\n",
       "      <td>0</td>\n",
       "    </tr>\n",
       "  </tbody>\n",
       "</table>\n",
       "</div>"
      ],
      "text/plain": [
       "                                            selftext  \\\n",
       "0                                          [removed]   \n",
       "1  I'm torn between posting this here or one of t...   \n",
       "2                                          [removed]   \n",
       "3  I’m a young male who is coming to the end of t...   \n",
       "4                                          [removed]   \n",
       "\n",
       "                                               title  subreddit  \n",
       "0  Does anybody know that one song with a motel a...          0  \n",
       "1  Quit Instead of Give me Your W9? I'll get your...          0  \n",
       "2                                        Black Snow!          0  \n",
       "3  So you think everyone wonders why we’re not fr...          0  \n",
       "4  Buy Verified PayPal Accounts.USA,UK,CA,Best Pa...          0  "
      ]
     },
     "execution_count": 166,
     "metadata": {},
     "output_type": "execute_result"
    }
   ],
   "source": [
    "df.head()"
   ]
  },
  {
   "cell_type": "code",
   "execution_count": 167,
   "id": "a2b4833d-ec52-4d16-bbbf-716491b49e19",
   "metadata": {},
   "outputs": [
    {
     "data": {
      "text/plain": [
       "8499"
      ]
     },
     "execution_count": 167,
     "metadata": {},
     "output_type": "execute_result"
    }
   ],
   "source": [
    "(df['selftext'] == '[removed]').sum()"
   ]
  },
  {
   "cell_type": "markdown",
   "id": "c7a2aaff-7d4d-46eb-992f-c2379b8cccdd",
   "metadata": {},
   "source": [
    "## Removing '[removed]' posts from selftext as those are posts that have been deemed not fit for the category"
   ]
  },
  {
   "cell_type": "code",
   "execution_count": 168,
   "id": "b62cf23d-ecbf-4aba-a886-30d5928282a2",
   "metadata": {},
   "outputs": [],
   "source": [
    "df = df[df['selftext'] != '[removed]']"
   ]
  },
  {
   "cell_type": "code",
   "execution_count": 169,
   "id": "46208c18-e2d7-4458-90a3-8e3542f68d4d",
   "metadata": {},
   "outputs": [
    {
     "data": {
      "text/plain": [
       "0"
      ]
     },
     "execution_count": 169,
     "metadata": {},
     "output_type": "execute_result"
    }
   ],
   "source": [
    "(df['selftext'] == '[removed]').sum()"
   ]
  },
  {
   "cell_type": "markdown",
   "id": "0d4f97cc-c466-4886-8a17-28ea6c97bb4d",
   "metadata": {
    "tags": []
   },
   "source": [
    "### Looking at selftext first"
   ]
  },
  {
   "cell_type": "code",
   "execution_count": 170,
   "id": "6ca3d27b-903b-4fae-be03-cadd8c88435d",
   "metadata": {},
   "outputs": [],
   "source": [
    "X = df['selftext']\n",
    "y = df['subreddit']\n",
    "\n",
    "\n",
    "X_train, X_test, y_train, y_test = train_test_split(X, y, random_state = 1)"
   ]
  },
  {
   "cell_type": "markdown",
   "id": "2f2c72f0-570f-434c-bdcb-16d4ce687e82",
   "metadata": {
    "tags": []
   },
   "source": [
    "## Quick null model"
   ]
  },
  {
   "cell_type": "code",
   "execution_count": 171,
   "id": "c0a9e306-7e0e-4eaf-bbf5-104f04abc2c7",
   "metadata": {},
   "outputs": [
    {
     "data": {
      "text/plain": [
       "0    0.556955\n",
       "1    0.443045\n",
       "Name: subreddit, dtype: float64"
      ]
     },
     "execution_count": 171,
     "metadata": {},
     "output_type": "execute_result"
    }
   ],
   "source": [
    "y.value_counts(normalize = True)"
   ]
  },
  {
   "cell_type": "markdown",
   "id": "ad337679-297e-4676-aac8-79fb469a0e8f",
   "metadata": {
    "tags": []
   },
   "source": [
    "## looking at vectorized data to see any initial problems"
   ]
  },
  {
   "cell_type": "code",
   "execution_count": 172,
   "id": "3eb384fc-3e9d-4f5f-8c22-4d336d5584ae",
   "metadata": {},
   "outputs": [],
   "source": [
    "cv = CountVectorizer(stop_words = 'english')"
   ]
  },
  {
   "cell_type": "code",
   "execution_count": 173,
   "id": "6eb316a2-87bb-4dfd-ad0b-6d410bd7b406",
   "metadata": {},
   "outputs": [],
   "source": [
    "X_train_cv = pd.DataFrame(cv.fit_transform(X_train, y_train).toarray(), columns = cv.get_feature_names_out())"
   ]
  },
  {
   "cell_type": "code",
   "execution_count": 174,
   "id": "dcccb9d7-da62-469f-b386-a5b0ad902457",
   "metadata": {
    "tags": []
   },
   "outputs": [
    {
     "data": {
      "text/plain": [
       "just      14925\n",
       "time      13802\n",
       "got       11709\n",
       "day       10416\n",
       "work      10218\n",
       "like      10207\n",
       "didn       9964\n",
       "told       9923\n",
       "said       9739\n",
       "did        8719\n",
       "know       7260\n",
       "went       6926\n",
       "going      6561\n",
       "people     6250\n",
       "don        6237\n",
       "dtype: int64"
      ]
     },
     "execution_count": 174,
     "metadata": {},
     "output_type": "execute_result"
    }
   ],
   "source": [
    "X_train_cv.sum().sort_values(ascending = False).head(15)"
   ]
  },
  {
   "cell_type": "markdown",
   "id": "577647ad-35eb-4a19-9f06-6e6cd5fc06ff",
   "metadata": {},
   "source": [
    "### Lemmatizer"
   ]
  },
  {
   "cell_type": "code",
   "execution_count": 175,
   "id": "e7d5c9bc-f7cf-4a88-96bf-8cb213843d93",
   "metadata": {},
   "outputs": [],
   "source": [
    "def lemma_tokenizer(doc):\n",
    "    wnl = WordNetLemmatizer()\n",
    "    return [wnl.lemmatize(w) for w in word_tokenize(doc)]"
   ]
  },
  {
   "cell_type": "markdown",
   "id": "a5f217db-e19d-4b37-aa4b-9e7d1b6cf7ba",
   "metadata": {
    "tags": []
   },
   "source": [
    "### Simple Logistic regression model w/ vectorizing on SELFTEXT"
   ]
  },
  {
   "cell_type": "code",
   "execution_count": 176,
   "id": "daf9bddd-cf21-4906-b514-e674c5c2c58a",
   "metadata": {},
   "outputs": [
    {
     "name": "stderr",
     "output_type": "stream",
     "text": [
      "/Users/danielsun/opt/anaconda3/lib/python3.9/site-packages/sklearn/feature_extraction/text.py:396: UserWarning: Your stop_words may be inconsistent with your preprocessing. Tokenizing the stop words generated tokens ['ha', 'le', 'u', 'wa'] not in stop_words.\n",
      "  warnings.warn(\n"
     ]
    },
    {
     "data": {
      "text/plain": [
       "(0.992163204378654, 0.8227611940298507)"
      ]
     },
     "execution_count": 176,
     "metadata": {},
     "output_type": "execute_result"
    }
   ],
   "source": [
    "pipe1 = Pipeline([\n",
    "    ('cv', CountVectorizer(tokenizer = lemma_tokenizer, stop_words = 'english')),\n",
    "    ('logr', LogisticRegression(max_iter = 1_000))\n",
    "])\n",
    "\n",
    "pipe1.fit(X_train, y_train)\n",
    "\n",
    "pipe1.score(X_train, y_train), pipe1.score(X_test, y_test)"
   ]
  },
  {
   "cell_type": "code",
   "execution_count": 177,
   "id": "d6cb15e4-4947-422e-ac8f-a4963f4d2f77",
   "metadata": {},
   "outputs": [
    {
     "data": {
      "text/plain": [
       "<sklearn.metrics._plot.confusion_matrix.ConfusionMatrixDisplay at 0x7fb5f5f38e50>"
      ]
     },
     "execution_count": 177,
     "metadata": {},
     "output_type": "execute_result"
    },
    {
     "data": {
      "image/png": "[encoded data removed]",
      "text/plain": [
       "<Figure size 432x288 with 2 Axes>"
      ]
     },
     "metadata": {
      "needs_background": "light"
     },
     "output_type": "display_data"
    }
   ],
   "source": [
    "ConfusionMatrixDisplay.from_estimator(pipe1, X_test, y_test)"
   ]
  },
  {
   "cell_type": "code",
   "execution_count": 178,
   "id": "cf199afb-91d1-41e0-9109-465096ab5197",
   "metadata": {},
   "outputs": [
    {
     "data": {
      "text/plain": [
       "(0.9922875979599453, 0.8261194029850746)"
      ]
     },
     "execution_count": 178,
     "metadata": {},
     "output_type": "execute_result"
    }
   ],
   "source": [
    "pipe2 = Pipeline([\n",
    "    ('cv', CountVectorizer(stop_words = 'english')),\n",
    "    ('logr', LogisticRegression(max_iter = 1_000))\n",
    "])\n",
    "\n",
    "pipe2.fit(X_train, y_train)\n",
    "\n",
    "pipe2.score(X_train, y_train), pipe2.score(X_test, y_test)"
   ]
  },
  {
   "cell_type": "code",
   "execution_count": 179,
   "id": "31a0fea5-769a-460a-9ceb-14c73f5bd2cd",
   "metadata": {},
   "outputs": [
    {
     "data": {
      "text/plain": [
       "<sklearn.metrics._plot.confusion_matrix.ConfusionMatrixDisplay at 0x7fb8148c5e20>"
      ]
     },
     "execution_count": 179,
     "metadata": {},
     "output_type": "execute_result"
    },
    {
     "data": {
      "image/png": "[encoded data removed]",
      "text/plain": [
       "<Figure size 432x288 with 2 Axes>"
      ]
     },
     "metadata": {
      "needs_background": "light"
     },
     "output_type": "display_data"
    }
   ],
   "source": [
    "ConfusionMatrixDisplay.from_estimator(pipe2, X_test, y_test)"
   ]
  },
  {
   "cell_type": "markdown",
   "id": "6050ae7c-9fe3-454c-9158-a434d81b5498",
   "metadata": {},
   "source": [
    "### Simple Logistic Regression using Title"
   ]
  },
  {
   "cell_type": "code",
   "execution_count": 180,
   "id": "8f36b38a-6578-4be9-b662-c178a20d0360",
   "metadata": {},
   "outputs": [],
   "source": [
    "X = df['title']\n",
    "y = df['subreddit']\n",
    "\n",
    "\n",
    "X_train, X_test, y_train, y_test = train_test_split(X, y, random_state = 1)"
   ]
  },
  {
   "cell_type": "code",
   "execution_count": 181,
   "id": "4c83826d-614d-4e9e-84fe-6d55b95ac980",
   "metadata": {},
   "outputs": [
    {
     "data": {
      "text/plain": [
       "(0.9290956586640129, 0.817910447761194)"
      ]
     },
     "execution_count": 181,
     "metadata": {},
     "output_type": "execute_result"
    }
   ],
   "source": [
    "pipe2.fit(X_train, y_train)\n",
    "\n",
    "pipe2.score(X_train, y_train), pipe2.score(X_test, y_test)"
   ]
  },
  {
   "cell_type": "code",
   "execution_count": 149,
   "id": "bd862ef5-fb90-4d0a-99d6-d9b72ddd0b1d",
   "metadata": {},
   "outputs": [
    {
     "data": {
      "text/plain": [
       "<sklearn.metrics._plot.confusion_matrix.ConfusionMatrixDisplay at 0x7fb825e40ca0>"
      ]
     },
     "execution_count": 149,
     "metadata": {},
     "output_type": "execute_result"
    },
    {
     "data": {
      "image/png": "[encoded data removed]",
      "text/plain": [
       "<Figure size 432x288 with 2 Axes>"
      ]
     },
     "metadata": {
      "needs_background": "light"
     },
     "output_type": "display_data"
    }
   ],
   "source": [
    "ConfusionMatrixDisplay.from_estimator(pipe2, X_test, y_test)"
   ]
  },
  {
   "cell_type": "markdown",
   "id": "d2fa9341-b5bb-4602-b6ff-4ff73c5fbde5",
   "metadata": {},
   "source": [
    "### Concatting both selftext and title into count vectorizer"
   ]
  },
  {
   "cell_type": "code",
   "execution_count": 150,
   "id": "1237ef29-2b7d-48a3-9864-9fca8ec0fde9",
   "metadata": {},
   "outputs": [],
   "source": [
    "renamed = pd.DataFrame(df[['title', 'subreddit']])\n",
    "renamed.columns = ['text', 'subreddit']\n",
    "renamed2 = pd.DataFrame(df[['selftext', 'subreddit']])\n",
    "renamed2.columns = ['text', 'subreddit']"
   ]
  },
  {
   "cell_type": "code",
   "execution_count": 151,
   "id": "335ea501-df93-4e2b-ba06-67683d5168b3",
   "metadata": {},
   "outputs": [],
   "source": [
    "single_df = pd.concat([renamed, renamed2])"
   ]
  },
  {
   "cell_type": "code",
   "execution_count": 152,
   "id": "67b3cd91-2e49-45eb-b5bf-2c812c6dc809",
   "metadata": {},
   "outputs": [
    {
     "data": {
      "text/html": [
       "<div>\n",
       "<style scoped>\n",
       "    .dataframe tbody tr th:only-of-type {\n",
       "        vertical-align: middle;\n",
       "    }\n",
       "\n",
       "    .dataframe tbody tr th {\n",
       "        vertical-align: top;\n",
       "    }\n",
       "\n",
       "    .dataframe thead th {\n",
       "        text-align: right;\n",
       "    }\n",
       "</style>\n",
       "<table border=\"1\" class=\"dataframe\">\n",
       "  <thead>\n",
       "    <tr style=\"text-align: right;\">\n",
       "      <th></th>\n",
       "      <th>text</th>\n",
       "      <th>subreddit</th>\n",
       "    </tr>\n",
       "  </thead>\n",
       "  <tbody>\n",
       "    <tr>\n",
       "      <th>1</th>\n",
       "      <td>Quit Instead of Give me Your W9? I'll get your...</td>\n",
       "      <td>0</td>\n",
       "    </tr>\n",
       "    <tr>\n",
       "      <th>3</th>\n",
       "      <td>So you think everyone wonders why we’re not fr...</td>\n",
       "      <td>0</td>\n",
       "    </tr>\n",
       "    <tr>\n",
       "      <th>5</th>\n",
       "      <td>Want me to drill in style? Gladly!</td>\n",
       "      <td>0</td>\n",
       "    </tr>\n",
       "    <tr>\n",
       "      <th>6</th>\n",
       "      <td>I can't let you back in because it would distu...</td>\n",
       "      <td>0</td>\n",
       "    </tr>\n",
       "    <tr>\n",
       "      <th>7</th>\n",
       "      <td>Only one ice cream cone, you say?</td>\n",
       "      <td>0</td>\n",
       "    </tr>\n",
       "    <tr>\n",
       "      <th>...</th>\n",
       "      <td>...</td>\n",
       "      <td>...</td>\n",
       "    </tr>\n",
       "    <tr>\n",
       "      <th>19212</th>\n",
       "      <td>This happened to me I think a week ago (Saturd...</td>\n",
       "      <td>1</td>\n",
       "    </tr>\n",
       "    <tr>\n",
       "      <th>19213</th>\n",
       "      <td>Ok so i posted this on r/nuclearrevenge but i ...</td>\n",
       "      <td>1</td>\n",
       "    </tr>\n",
       "    <tr>\n",
       "      <th>19214</th>\n",
       "      <td>A roommate fucked me over before for about two...</td>\n",
       "      <td>1</td>\n",
       "    </tr>\n",
       "    <tr>\n",
       "      <th>19215</th>\n",
       "      <td>So in r/SMG4, you cant ship Mario and Meggy, a...</td>\n",
       "      <td>1</td>\n",
       "    </tr>\n",
       "    <tr>\n",
       "      <th>19217</th>\n",
       "      <td>So this is a short one. When I was about six o...</td>\n",
       "      <td>1</td>\n",
       "    </tr>\n",
       "  </tbody>\n",
       "</table>\n",
       "<p>21438 rows × 2 columns</p>\n",
       "</div>"
      ],
      "text/plain": [
       "                                                    text  subreddit\n",
       "1      Quit Instead of Give me Your W9? I'll get your...          0\n",
       "3      So you think everyone wonders why we’re not fr...          0\n",
       "5                     Want me to drill in style? Gladly!          0\n",
       "6      I can't let you back in because it would distu...          0\n",
       "7                      Only one ice cream cone, you say?          0\n",
       "...                                                  ...        ...\n",
       "19212  This happened to me I think a week ago (Saturd...          1\n",
       "19213  Ok so i posted this on r/nuclearrevenge but i ...          1\n",
       "19214  A roommate fucked me over before for about two...          1\n",
       "19215  So in r/SMG4, you cant ship Mario and Meggy, a...          1\n",
       "19217  So this is a short one. When I was about six o...          1\n",
       "\n",
       "[21438 rows x 2 columns]"
      ]
     },
     "execution_count": 152,
     "metadata": {},
     "output_type": "execute_result"
    }
   ],
   "source": [
    "single_df"
   ]
  },
  {
   "cell_type": "code",
   "execution_count": 153,
   "id": "45527539-de64-439d-8a4a-d3ec30c84c65",
   "metadata": {},
   "outputs": [],
   "source": [
    "X = single_df['text']\n",
    "y = single_df['subreddit']\n",
    "\n",
    "\n",
    "X_train, X_test, y_train, y_test = train_test_split(X, y, random_state = 1)"
   ]
  },
  {
   "cell_type": "code",
   "execution_count": 154,
   "id": "fc8071a9-1d59-40e7-acc5-8cfcd3e07c8d",
   "metadata": {},
   "outputs": [
    {
     "data": {
      "text/plain": [
       "(0.9531036198532156, 0.8205223880597015)"
      ]
     },
     "execution_count": 154,
     "metadata": {},
     "output_type": "execute_result"
    }
   ],
   "source": [
    "pipe2.fit(X_train, y_train)\n",
    "\n",
    "pipe2.score(X_train, y_train), pipe1.score(X_test, y_test)"
   ]
  },
  {
   "cell_type": "code",
   "execution_count": 155,
   "id": "acbdc215-58c8-41c4-9f28-dc8c52bc7569",
   "metadata": {},
   "outputs": [
    {
     "data": {
      "text/plain": [
       "<sklearn.metrics._plot.confusion_matrix.ConfusionMatrixDisplay at 0x7fb5f5e59f70>"
      ]
     },
     "execution_count": 155,
     "metadata": {},
     "output_type": "execute_result"
    },
    {
     "data": {
      "image/png": "[encoded data removed]",
      "text/plain": [
       "<Figure size 432x288 with 2 Axes>"
      ]
     },
     "metadata": {
      "needs_background": "light"
     },
     "output_type": "display_data"
    }
   ],
   "source": [
    "ConfusionMatrixDisplay.from_estimator(pipe2, X_test, y_test)"
   ]
  }
 ],
 "metadata": {
  "kernelspec": {
   "display_name": "Python 3 (ipykernel)",
   "language": "python",
   "name": "python3"
  },
  "language_info": {
   "codemirror_mode": {
    "name": "ipython",
    "version": 3
   },
   "file_extension": ".py",
   "mimetype": "text/x-python",
   "name": "python",
   "nbconvert_exporter": "python",
   "pygments_lexer": "ipython3",
   "version": "3.9.7"
  }
 },
 "nbformat": 4,
 "nbformat_minor": 5
}
