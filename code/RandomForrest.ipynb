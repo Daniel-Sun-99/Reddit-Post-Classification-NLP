{
 "cells": [
  {
   "cell_type": "code",
   "execution_count": 6,
   "id": "e66c24c6-3d2c-465b-a45c-807436b25d37",
   "metadata": {},
   "outputs": [],
   "source": [
    "import numpy as np\n",
    "import pandas as pd\n",
    "import matplotlib.pyplot as plt\n",
    "\n",
    "from sklearn.feature_extraction.text import CountVectorizer,TfidfVectorizer\n",
    "from sklearn.model_selection import train_test_split, GridSearchCV\n",
    "from sklearn.ensemble import RandomForestClassifier\n",
    "from sklearn.metrics import ConfusionMatrixDisplay, recall_score, precision_score, f1_score\n",
    "from sklearn.pipeline import Pipeline"
   ]
  },
  {
   "cell_type": "code",
   "execution_count": 7,
   "id": "48bdcb50-5cf8-4f92-a4da-74314091a18b",
   "metadata": {},
   "outputs": [],
   "source": [
    "df_cleaned = pd.read_csv('../data/remove_removed.csv')\n",
    "df_title_selftext = pd.read_csv('../data/concat_title_selftext.csv')\n",
    "\n",
    "df_title = df_cleaned[['title', 'subreddit']]\n",
    "df_selftext = df_cleaned[['selftext', 'subreddit']]\n",
    "\n",
    "X = df_title['title']\n",
    "y = df_title['subreddit']\n",
    "\n",
    "X_train, X_test, y_train, y_test = train_test_split(X, y, random_state = 1)"
   ]
  },
  {
   "cell_type": "markdown",
   "id": "d6b9737e-13ab-4fce-8af8-47d885e9394b",
   "metadata": {
    "tags": []
   },
   "source": [
    "### First Random Forrest model on just titles (best model from logistic regression)"
   ]
  },
  {
   "cell_type": "code",
   "execution_count": 8,
   "id": "1b9c7725-73d8-4ad4-8f8c-8804f775b9f3",
   "metadata": {},
   "outputs": [],
   "source": [
    "params = {\n",
    "    'cv__stop_words': ['english'],\n",
    "    'cv__ngram_range' : [(1,2)],\n",
    "    'rf__n_estimators': [100, 150, 200],\n",
    "    'rf__max_depth': [None, 3, 5, 7],\n",
    "    'rf__min_samples_split': [2, 3, 5],\n",
    "    'rf__random_state' : [1]\n",
    "}"
   ]
  },
  {
   "cell_type": "code",
   "execution_count": 9,
   "id": "ad7a3620-9e6b-4635-b8e3-5a6bfe493712",
   "metadata": {},
   "outputs": [],
   "source": [
    "rf_pipe = Pipeline([\n",
    "    ('cv', CountVectorizer()),\n",
    "    ('rf', RandomForestClassifier())\n",
    "     ])"
   ]
  },
  {
   "cell_type": "code",
   "execution_count": 10,
   "id": "93163a60-fd5f-4df4-b4f4-8809aad61ed4",
   "metadata": {},
   "outputs": [],
   "source": [
    "gs = GridSearchCV(\n",
    "    rf_pipe,\n",
    "    param_grid=params,\n",
    "    n_jobs=-1\n",
    ")"
   ]
  },
  {
   "cell_type": "code",
   "execution_count": 11,
   "id": "82c860b1-6077-4395-ada5-1e75c4b48738",
   "metadata": {},
   "outputs": [
    {
     "data": {
      "text/plain": [
       "(0.9905460878218684, 0.8134328358208955)"
      ]
     },
     "execution_count": 11,
     "metadata": {},
     "output_type": "execute_result"
    }
   ],
   "source": [
    "gs.fit(X_train, y_train)\n",
    "\n",
    "gs.score(X_train, y_train), gs.score(X_test, y_test)"
   ]
  },
  {
   "cell_type": "code",
   "execution_count": 12,
   "id": "282a4c63-048a-47f4-bbb7-0eb0b58981dc",
   "metadata": {},
   "outputs": [
    {
     "data": {
      "text/plain": [
       "Pipeline(steps=[('cv',\n",
       "                 CountVectorizer(ngram_range=(1, 2), stop_words='english')),\n",
       "                ('rf',\n",
       "                 RandomForestClassifier(min_samples_split=5, n_estimators=150,\n",
       "                                        random_state=1))])"
      ]
     },
     "execution_count": 12,
     "metadata": {},
     "output_type": "execute_result"
    }
   ],
   "source": [
    "gs.best_estimator_"
   ]
  },
  {
   "cell_type": "code",
   "execution_count": 13,
   "id": "5ddca27a-3999-4025-be7f-7e0e0b25d83e",
   "metadata": {},
   "outputs": [
    {
     "name": "stdout",
     "output_type": "stream",
     "text": [
      "0.900327868852459\n",
      "0.7977919814061593\n",
      "0.8459642637091805\n"
     ]
    }
   ],
   "source": [
    "print(recall_score(y_test, gs.predict(X_test), pos_label = 0))\n",
    "print(precision_score(y_test, gs.predict(X_test), pos_label = 0))\n",
    "print(f1_score(y_test, gs.predict(X_test), pos_label = 0))"
   ]
  },
  {
   "cell_type": "code",
   "execution_count": 14,
   "id": "4f13f46a-0d6c-418f-a386-8ea5a7b0e405",
   "metadata": {},
   "outputs": [
    {
     "data": {
      "text/plain": [
       "<sklearn.metrics._plot.confusion_matrix.ConfusionMatrixDisplay at 0x7fddbf502d60>"
      ]
     },
     "execution_count": 14,
     "metadata": {},
     "output_type": "execute_result"
    },
    {
     "data": {
      "image/png": "[encoded data removed]",
      "text/plain": [
       "<Figure size 432x288 with 2 Axes>"
      ]
     },
     "metadata": {
      "needs_background": "light"
     },
     "output_type": "display_data"
    }
   ],
   "source": [
    "ConfusionMatrixDisplay.from_estimator(gs, X_test, y_test)"
   ]
  },
  {
   "cell_type": "markdown",
   "id": "f8b352d4-d79b-4bfd-bf40-2076b34e60fb",
   "metadata": {
    "tags": []
   },
   "source": [
    "### Feature Importance"
   ]
  },
  {
   "cell_type": "code",
   "execution_count": 19,
   "id": "4b4bc263-9b55-468f-9766-6fabd61b80f1",
   "metadata": {},
   "outputs": [],
   "source": [
    "feature_importance = pd.DataFrame({'Variable': gs.best_estimator_.named_steps['cv'].get_feature_names_out(),\n",
    "              'Importance':gs.best_estimator_.named_steps['rf'].feature_importances_}).sort_values('Importance', ascending=False)\n",
    "\n",
    "feature_importance.to_csv('../data/feature_importance.csv', index = False)"
   ]
  },
  {
   "cell_type": "markdown",
   "id": "f47213e4-86a1-4985-b1fe-7d7d0a113c3d",
   "metadata": {},
   "source": [
    "-----"
   ]
  },
  {
   "cell_type": "markdown",
   "id": "e49e5646-bde2-43dc-816f-319fe6c9b727",
   "metadata": {},
   "source": [
    "## Quick modeling on selftext to see if better results"
   ]
  },
  {
   "cell_type": "code",
   "execution_count": 33,
   "id": "4cc337ea-ec9d-4b38-99da-e6ec6ce78aad",
   "metadata": {},
   "outputs": [],
   "source": [
    "X = df_selftext['selftext']\n",
    "y = df_selftext['subreddit']\n",
    "\n",
    "X_train, X_test, y_train, y_test = train_test_split(X, y, random_state = 1)"
   ]
  },
  {
   "cell_type": "code",
   "execution_count": 34,
   "id": "96fa2cbd-4e5f-43cf-ae31-a09c9402d730",
   "metadata": {},
   "outputs": [
    {
     "data": {
      "text/plain": [
       "(0.9927851722851101, 0.823134328358209)"
      ]
     },
     "execution_count": 34,
     "metadata": {},
     "output_type": "execute_result"
    }
   ],
   "source": [
    "## This took almost an hour\n",
    "gs.fit(X_train, y_train)\n",
    "\n",
    "gs.score(X_train, y_train), gs.score(X_test, y_test)"
   ]
  },
  {
   "cell_type": "code",
   "execution_count": 35,
   "id": "8365f72f-44b7-4193-8638-d830537eedaa",
   "metadata": {},
   "outputs": [
    {
     "name": "stdout",
     "output_type": "stream",
     "text": [
      "0.9121311475409836\n",
      "0.8035817446562681\n",
      "0.8544226044226044\n"
     ]
    }
   ],
   "source": [
    "print(recall_score(y_test, gs.predict(X_test), pos_label = 0))\n",
    "print(precision_score(y_test, gs.predict(X_test), pos_label = 0))\n",
    "print(f1_score(y_test, gs.predict(X_test), pos_label = 0))"
   ]
  },
  {
   "cell_type": "code",
   "execution_count": 36,
   "id": "07514897-79e9-47d1-a99c-1ef339239d23",
   "metadata": {},
   "outputs": [
    {
     "data": {
      "text/plain": [
       "Pipeline(steps=[('cv',\n",
       "                 CountVectorizer(ngram_range=(1, 2), stop_words='english')),\n",
       "                ('rf',\n",
       "                 RandomForestClassifier(min_samples_split=3, n_estimators=200,\n",
       "                                        random_state=1))])"
      ]
     },
     "execution_count": 36,
     "metadata": {},
     "output_type": "execute_result"
    }
   ],
   "source": [
    "gs.best_estimator_"
   ]
  },
  {
   "cell_type": "code",
   "execution_count": 20,
   "id": "dc25a3c4-943a-4a82-ae3f-8855f229d82a",
   "metadata": {},
   "outputs": [
    {
     "data": {
      "image/png": "[encoded data removed]",
      "text/plain": [
       "<Figure size 432x288 with 2 Axes>"
      ]
     },
     "metadata": {
      "needs_background": "light"
     },
     "output_type": "display_data"
    }
   ],
   "source": [
    "ConfusionMatrixDisplay.from_estimator(gs, X_test, y_test)\n",
    "plt.title('Confusion matrix of RandomForest predictions');\n",
    "plt.savefig('../visuals/ConfusionMatrixDisplay.png')"
   ]
  },
  {
   "cell_type": "markdown",
   "id": "a2b84368-32f0-49c9-9505-cce09869b563",
   "metadata": {},
   "source": [
    "-----"
   ]
  },
  {
   "cell_type": "markdown",
   "id": "fa9f4fec-a7cb-4355-96fa-6e6eadb52397",
   "metadata": {},
   "source": [
    "## Tfid w/ random forest -- Title"
   ]
  },
  {
   "cell_type": "code",
   "execution_count": 18,
   "id": "019e9b24-9ef2-481c-857e-6d7b0579b815",
   "metadata": {},
   "outputs": [],
   "source": [
    "X = df_title['title']\n",
    "y = df_title['subreddit']\n",
    "\n",
    "X_train, X_test, y_train, y_test = train_test_split(X, y, random_state = 1)"
   ]
  },
  {
   "cell_type": "code",
   "execution_count": 15,
   "id": "704e8494-86ba-4200-9e89-eaa295c22d8f",
   "metadata": {},
   "outputs": [
    {
     "data": {
      "text/plain": [
       "(0.9896753327528299, 0.8123134328358209)"
      ]
     },
     "execution_count": 15,
     "metadata": {},
     "output_type": "execute_result"
    }
   ],
   "source": [
    "rf_tfid_pipe = Pipeline([\n",
    "    ('tfid', TfidfVectorizer(min_df = 2, ngram_range = (1,2), stop_words = 'english')),\n",
    "    ('rf', RandomForestClassifier(min_samples_split = 3, n_estimators = 200, random_state = 1))\n",
    "     ])\n",
    "\n",
    "rf_tfid_pipe.fit(X_train, y_train)\n",
    "\n",
    "rf_tfid_pipe.score(X_train, y_train), rf_tfid_pipe.score(X_test, y_test)"
   ]
  },
  {
   "cell_type": "code",
   "execution_count": 16,
   "id": "97cc2e53-6b92-413b-b173-164dbcac4866",
   "metadata": {},
   "outputs": [
    {
     "name": "stdout",
     "output_type": "stream",
     "text": [
      "0.8688524590163934\n",
      "0.8138820638820639\n",
      "0.8404693942277196\n"
     ]
    }
   ],
   "source": [
    "print(recall_score(y_test, rf_tfid_pipe.predict(X_test), pos_label = 0))\n",
    "print(precision_score(y_test, rf_tfid_pipe.predict(X_test), pos_label = 0))\n",
    "print(f1_score(y_test, rf_tfid_pipe.predict(X_test), pos_label = 0))"
   ]
  },
  {
   "cell_type": "code",
   "execution_count": 17,
   "id": "11e61d96-2e52-4835-9657-a334e6616f33",
   "metadata": {},
   "outputs": [
    {
     "data": {
      "text/plain": [
       "<sklearn.metrics._plot.confusion_matrix.ConfusionMatrixDisplay at 0x7fddaab6a160>"
      ]
     },
     "execution_count": 17,
     "metadata": {},
     "output_type": "execute_result"
    },
    {
     "data": {
      "image/png": "[encoded data removed]",
      "text/plain": [
       "<Figure size 432x288 with 2 Axes>"
      ]
     },
     "metadata": {
      "needs_background": "light"
     },
     "output_type": "display_data"
    }
   ],
   "source": [
    "ConfusionMatrixDisplay.from_estimator(rf_tfid_pipe, X_test, y_test)"
   ]
  }
 ],
 "metadata": {
  "kernelspec": {
   "display_name": "Python 3 (ipykernel)",
   "language": "python",
   "name": "python3"
  },
  "language_info": {
   "codemirror_mode": {
    "name": "ipython",
    "version": 3
   },
   "file_extension": ".py",
   "mimetype": "text/x-python",
   "name": "python",
   "nbconvert_exporter": "python",
   "pygments_lexer": "ipython3",
   "version": "3.9.7"
  }
 },
 "nbformat": 4,
 "nbformat_minor": 5
}
